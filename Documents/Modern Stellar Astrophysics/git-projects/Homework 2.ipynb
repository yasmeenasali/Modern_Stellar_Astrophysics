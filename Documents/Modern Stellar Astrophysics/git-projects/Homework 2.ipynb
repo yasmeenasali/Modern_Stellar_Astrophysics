{
 "cells": [
  {
   "cell_type": "markdown",
   "metadata": {},
   "source": [
    "### Homework 2\n",
    "Modern Stellar Astrophysics \n",
    "\n",
    "Prof. Melissa Ness\n",
    "\n",
    "Yasmeen Asali \n",
    "\n",
    "October 18th, 2018"
   ]
  },
  {
   "cell_type": "code",
   "execution_count": 45,
   "metadata": {
    "collapsed": true
   },
   "outputs": [],
   "source": [
    "import numpy as np\n",
    "import astropy.units as u\n",
    "import matplotlib.pyplot as plt\n",
    "from scipy.stats import gaussian_kde"
   ]
  },
  {
   "cell_type": "markdown",
   "metadata": {},
   "source": [
    "### Problem 2\n",
    "\n"
   ]
  },
  {
   "cell_type": "code",
   "execution_count": 19,
   "metadata": {},
   "outputs": [
    {
     "name": "stdout",
     "output_type": "stream",
     "text": [
      "(7489269,)\n"
     ]
    }
   ],
   "source": [
    "dt = [('x','f8'),('y','f8'),('z','f8'),('vx','f8'),('vy','f8'),('vz','f8')]\n",
    "data = np.genfromtxt('modelR1GaiaChallenge',dtype=dt)\n",
    "np.save('modelR1data',data)"
   ]
  },
  {
   "cell_type": "code",
   "execution_count": 34,
   "metadata": {},
   "outputs": [
    {
     "name": "stdout",
     "output_type": "stream",
     "text": [
      "(7489269,)\n"
     ]
    }
   ],
   "source": [
    "modelR1data = np.load('modelR1data.npy')\n",
    "print(np.shape(modelR1data))"
   ]
  },
  {
   "cell_type": "code",
   "execution_count": 35,
   "metadata": {},
   "outputs": [
    {
     "data": {
      "text/plain": [
       "array([ (-1.1855888 ,  0.3870438 ,  0.28164312,  -97.19944,   15.530616, -151.94402 ),\n",
       "       ( 0.40000296,  0.24807201, -0.05270057, -175.68466,  223.81343 ,  184.67241 ),\n",
       "       (-1.0759624 , -0.55642074, -0.07496975,  135.59796, -137.67535 ,  112.96014 ),\n",
       "       ...,\n",
       "       ( 5.8122311 ,  5.6434278 , -0.08249884, -156.72023,   19.514315,  -34.014992),\n",
       "       (-5.9588952 , -5.5228796 , -0.02548528,  157.02412,  -21.07032 ,  -27.067957),\n",
       "       ( 5.6456079 ,  5.5886564 ,  0.08627713, -162.69707,   14.673622,  -19.854509)],\n",
       "      dtype=[('x', '<f8'), ('y', '<f8'), ('z', '<f8'), ('vx', '<f8'), ('vy', '<f8'), ('vz', '<f8')])"
      ]
     },
     "execution_count": 35,
     "metadata": {},
     "output_type": "execute_result"
    }
   ],
   "source": [
    "modelR1data"
   ]
  },
  {
   "cell_type": "code",
   "execution_count": 32,
   "metadata": {
    "collapsed": true
   },
   "outputs": [],
   "source": [
    "# how to make maps to see the central X-shaped structure\n",
    "#we have coords in xyz per star, along with their velocities\n",
    "# probably just plotting the starts in the x-z plane to start will be ok? "
   ]
  },
  {
   "cell_type": "code",
   "execution_count": 48,
   "metadata": {
    "collapsed": true
   },
   "outputs": [],
   "source": [
    "x = modelR1data['x']\n",
    "y = modelR1data['y']\n",
    "z = modelR1data['z']"
   ]
  },
  {
   "cell_type": "code",
   "execution_count": null,
   "metadata": {
    "collapsed": true
   },
   "outputs": [],
   "source": [
    "#use a numpy function to np.random.rand to create an array that goes \n",
    "#from 0 to the total number of stars\n",
    "#with some 10,000 stars \n",
    "\n",
    "#subset of the data \n",
    "\n",
    "np.random.randit(0, 10, 100) # so 0 to 7 million\n",
    "#100 is the number of points you want ex 10,000\n",
    "\n",
    "#index your x,y,z\n",
    "#before you do this, take x,y,z less that five (kpc)\n",
    "#don't do it for 7 million \n",
    "#2d histogram \n",
    "#unsharp mask - subtract instead of divide if in log \n",
    "#divide if density is in linear scale "
   ]
  },
  {
   "cell_type": "code",
   "execution_count": null,
   "metadata": {
    "collapsed": true
   },
   "outputs": [],
   "source": [
    "#point density in xz plane\n",
    "xz_num = np.vstack([x,z])\n",
    "c_num = gaussian_kde(xz_num)(xz_num)"
   ]
  },
  {
   "cell_type": "code",
   "execution_count": null,
   "metadata": {
    "collapsed": true
   },
   "outputs": [],
   "source": [
    "#sort by density, so that the densest points are plotted last\n",
    "idx = c_num.argsort()\n",
    "x, y, c_num = x[idx], y[idx], c_num[idx]"
   ]
  },
  {
   "cell_type": "code",
   "execution_count": 46,
   "metadata": {},
   "outputs": [
    {
     "ename": "NameError",
     "evalue": "name 'c_num' is not defined",
     "output_type": "error",
     "traceback": [
      "\u001b[0;31m---------------------------------------------------------------------------\u001b[0m",
      "\u001b[0;31mNameError\u001b[0m                                 Traceback (most recent call last)",
      "\u001b[0;32m<ipython-input-46-568d7648feac>\u001b[0m in \u001b[0;36m<module>\u001b[0;34m()\u001b[0m\n\u001b[0;32m----> 1\u001b[0;31m \u001b[0mplt\u001b[0m\u001b[0;34m.\u001b[0m\u001b[0mscatter\u001b[0m\u001b[0;34m(\u001b[0m\u001b[0mx\u001b[0m\u001b[0;34m,\u001b[0m \u001b[0mz\u001b[0m\u001b[0;34m,\u001b[0m \u001b[0mc\u001b[0m\u001b[0;34m=\u001b[0m\u001b[0mc_num\u001b[0m\u001b[0;34m,\u001b[0m \u001b[0mcmap\u001b[0m\u001b[0;34m=\u001b[0m\u001b[0;34m'Oranges'\u001b[0m\u001b[0;34m)\u001b[0m\u001b[0;34m\u001b[0m\u001b[0m\n\u001b[0m\u001b[1;32m      2\u001b[0m \u001b[0mplt\u001b[0m\u001b[0;34m.\u001b[0m\u001b[0mxlabel\u001b[0m\u001b[0;34m(\u001b[0m\u001b[0;34m\"x-axis\"\u001b[0m\u001b[0;34m,\u001b[0m\u001b[0msize\u001b[0m\u001b[0;34m=\u001b[0m\u001b[0;36m15\u001b[0m\u001b[0;34m)\u001b[0m\u001b[0;34m\u001b[0m\u001b[0m\n\u001b[1;32m      3\u001b[0m \u001b[0mplt\u001b[0m\u001b[0;34m.\u001b[0m\u001b[0mylabel\u001b[0m\u001b[0;34m(\u001b[0m\u001b[0;34m\"z-axis\"\u001b[0m\u001b[0;34m,\u001b[0m\u001b[0msize\u001b[0m\u001b[0;34m=\u001b[0m\u001b[0;36m15\u001b[0m\u001b[0;34m)\u001b[0m\u001b[0;34m\u001b[0m\u001b[0m\n\u001b[1;32m      4\u001b[0m \u001b[0mcb\u001b[0m \u001b[0;34m=\u001b[0m \u001b[0mplt\u001b[0m\u001b[0;34m.\u001b[0m\u001b[0mcolorbar\u001b[0m\u001b[0;34m(\u001b[0m\u001b[0;34m)\u001b[0m\u001b[0;34m\u001b[0m\u001b[0m\n\u001b[1;32m      5\u001b[0m \u001b[0mcb\u001b[0m\u001b[0;34m.\u001b[0m\u001b[0mset_label\u001b[0m\u001b[0;34m(\u001b[0m\u001b[0;34m'Number Density'\u001b[0m\u001b[0;34m,\u001b[0m\u001b[0mfontsize\u001b[0m\u001b[0;34m=\u001b[0m\u001b[0;36m15\u001b[0m\u001b[0;34m)\u001b[0m\u001b[0;34m\u001b[0m\u001b[0m\n",
      "\u001b[0;31mNameError\u001b[0m: name 'c_num' is not defined"
     ]
    }
   ],
   "source": [
    "plt.plot(x, z, c=c_num, cmap='Oranges')\n",
    "plt.xlabel(\"x-axis\",size=15)\n",
    "plt.ylabel(\"z-axis\",size=15)\n",
    "cb = plt.colorbar()\n",
    "cb.set_label('Number Density',fontsize=15)"
   ]
  },
  {
   "cell_type": "markdown",
   "metadata": {},
   "source": [
    "### Problem 3\n",
    "\n",
    "**Part a)**\n",
    "\n",
    "The Kelvin Helmholtz mechanism theorizes that stars or planets (Jupiter in this case) that are not in hydrostatic equilibrium will undergo contraction as the surface cools, causing an increase in core temperature which prevents the planet from collapsing immediately. The thermal timescale is the amount of time this mechanism can persist before all of Jupiter's energy is radiated away. It can be calculated using the following formula:  \n",
    "\n",
    "$$ \\tau_{th} = \\frac{\\Delta{E_{g}}}{L} = \\frac{GM^2}{RL} $$\n",
    "\n",
    "Solving this equation below, we find Jupiter's thermal timescale is 321 gigayears. Since Jupiter is only 4.5 Gyr old, gravitational contraction could have power its luminosity for its entire lifetime, so we cannot assume it is in hydrostatic equilibrium. "
   ]
  },
  {
   "cell_type": "code",
   "execution_count": 3,
   "metadata": {},
   "outputs": [
    {
     "name": "stdout",
     "output_type": "stream",
     "text": [
      "321.18715474021167 Gyr\n"
     ]
    }
   ],
   "source": [
    "def ts_thermal(M, R, L):\n",
    "    G = 6.64e-8 * (u.cm)**3 / (u.g * (u.s)**(2))\n",
    "    t_in_seconds = (G*(M**2))/(R*L)\n",
    "    t_in_Gyr = t_in_seconds * (3.17e-17 * u.Gyr / u.s)\n",
    "    return t_in_Gyr\n",
    "\n",
    "M_jup = 1.9e30 * u.g\n",
    "R_jup = 7.1e9 * u.cm\n",
    "L_jup = 8.7e-10 * (3.83e33 * u.g * (u.cm)**2 * (u.s)**(-3))\n",
    "\n",
    "print(ts_thermal(M_jup, R_jup, L_jup))"
   ]
  },
  {
   "cell_type": "markdown",
   "metadata": {},
   "source": [
    "**Part b)**\n",
    "\n",
    "If Jupiter's radius is shrinking only due to radiation we can set up conservation of energy by equating the amount of energy lost in gravitational potential energy to the amoutn of energy emitted in luminosity:\n",
    "\n",
    "$$ \\Delta{E_{g}} = \\Delta{E_{emitted}} $$\n",
    "$$ \\frac{GM^2}{r(t)} = Lt $$\n",
    "\n",
    "We can take the time derivative of both sides, noting that since the star is contracting, radius is no longer a constant but now a function of time. \n",
    "\n",
    "$$ \\frac{d}{dt}(\\frac{GM^2}{r(t)}) = L $$\n",
    "\n",
    "Using the recipricol rule for derivatives\n",
    "\n",
    "$$ \\frac{-GM^2}{r(t)^2}\\frac{dr(t)}{dt} = L $$\n",
    "$$ \\frac{dr(t)}{dt} = \\frac{-Lr(t)^2}{GM^2} $$\n",
    "\n",
    "We are trying to find the rate at a given time (now), so we can substitute $ r(t) = R_{jupiter} $. Also, since we know that the radius is contracting, we can ignore the negative sign and calculate the rate"
   ]
  },
  {
   "cell_type": "code",
   "execution_count": 30,
   "metadata": {},
   "outputs": [
    {
     "name": "stdout",
     "output_type": "stream",
     "text": [
      "7.007440885425358e-10 cm / s\n",
      "0.022098659989736164 cm / yr\n"
     ]
    }
   ],
   "source": [
    "def contr_rate(M, R, L):\n",
    "    G = 6.64e-8 * (u.cm)**3 / (u.g * (u.s)**(2))\n",
    "    return (L*R**2)/(G*M**2)\n",
    "def convert_to_year_per_sec(value):\n",
    "    return value * (u.s / (3.17098e-8 * u.yr))\n",
    "\n",
    "print(contr_rate(M_jup, R_jup, L_jup))\n",
    "print(convert_to_year_per_sec(contr_rate(M_jup, R_jup, L_jup)))"
   ]
  },
  {
   "cell_type": "markdown",
   "metadata": {},
   "source": [
    "Our value is 0.02 cm per year, which is 2 orders of magnitude off of the actual value of 2 cm per year (**source**). This offset can be attributed to the fact that we assumed a simplified equation of the gravitational potential energy, ignoring the factor that arises from the density distribution. "
   ]
  },
  {
   "cell_type": "markdown",
   "metadata": {},
   "source": [
    "### Problem 4\n",
    "\n"
   ]
  },
  {
   "cell_type": "markdown",
   "metadata": {},
   "source": [
    "### Problem 5\n",
    "\n",
    "**Part a)**\n",
    "\n",
    "The mean free path ${l}$ tells us how far we can see through the Earth's atmosphere, and it is given by:\n",
    "\n",
    "$$ l = (\\kappa\\rho)^{-1} $$\n",
    "\n",
    "Plugging in the given values we get:"
   ]
  },
  {
   "cell_type": "code",
   "execution_count": 9,
   "metadata": {},
   "outputs": [
    {
     "name": "stdout",
     "output_type": "stream",
     "text": [
      "3156.5656565656564 cm\n"
     ]
    }
   ],
   "source": [
    "op_E = 0.264 * u.cm**2 / u.g\n",
    "dens_E = 1.2e-3 * u.g / u.cm**3\n",
    "mfp_E = 1 / (op_E*dens_E)\n",
    "\n",
    "print(mfp_E)"
   ]
  },
  {
   "cell_type": "markdown",
   "metadata": {},
   "source": [
    "** Part b) **\n",
    "\n",
    "Using the same formula, we can calculate the mean free path for a photon in the sun"
   ]
  },
  {
   "cell_type": "code",
   "execution_count": 23,
   "metadata": {},
   "outputs": [
    {
     "name": "stdout",
     "output_type": "stream",
     "text": [
      "0.005321413367390379 cm\n"
     ]
    }
   ],
   "source": [
    "op_S = 1.16 * u.cm**2 / u.g\n",
    "dens_S = 162 * u.g / u.cm**3\n",
    "mfp_S = 1 / (op_S*dens_S)\n",
    "\n",
    "print(mfp_S)"
   ]
  },
  {
   "cell_type": "markdown",
   "metadata": {},
   "source": [
    "** Part c) **\n",
    "\n",
    "Distance travelled by a photon can be expresed as:\n",
    "\n",
    "$$ d = \\sqrt{N}l $$\n",
    "\n",
    "For a photon coming from the center of the Sun to its surface, $ d = R_{\\odot} $. So the number of steps is\n",
    "\n",
    "$$ N = \\frac{R_{\\odot}^2}{l^2} $$\n",
    "\n",
    "So here $N$ signifies the number of random steps a photon. This photon will travel a distance $l$ per random step, so the total distance travelled is\n",
    "\n",
    "$$ D = Nl $$\n",
    "\n",
    "and so we can express the amount of time it takes (considering the constant speed of light) as:\n",
    "\n",
    "$$ t = \\frac{Nl}{c} = \\frac{R_{\\odot}^2}{lc} $$\n",
    "\n",
    "Plugging in our values we get that it will take a photon 960,393 years to travel from the center to the surface of the Sun. Crazy! "
   ]
  },
  {
   "cell_type": "code",
   "execution_count": 31,
   "metadata": {},
   "outputs": [
    {
     "name": "stdout",
     "output_type": "stream",
     "text": [
      "30286972972972.973 s\n",
      "960393.8555783783 yr\n"
     ]
    }
   ],
   "source": [
    "R_sun = 6.95e10 * u.cm\n",
    "c = 2.997e10 * u.cm / u.s\n",
    "t_photon = (R_sun**2 ) / (mfp_S * c)\n",
    "\n",
    "def convert_to_year(value):\n",
    "    return value * (3.17098e-8 * u.yr) / u.s\n",
    "\n",
    "print(t_photon)\n",
    "print(convert_to_year(t_photon))"
   ]
  }
 ],
 "metadata": {
  "kernelspec": {
   "display_name": "Python 3",
   "language": "python",
   "name": "python3"
  },
  "language_info": {
   "codemirror_mode": {
    "name": "ipython",
    "version": 3
   },
   "file_extension": ".py",
   "mimetype": "text/x-python",
   "name": "python",
   "nbconvert_exporter": "python",
   "pygments_lexer": "ipython3",
   "version": "3.6.3"
  }
 },
 "nbformat": 4,
 "nbformat_minor": 2
}
