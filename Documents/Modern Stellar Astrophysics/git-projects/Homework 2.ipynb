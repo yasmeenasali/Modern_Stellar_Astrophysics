{
 "cells": [
  {
   "cell_type": "markdown",
   "metadata": {},
   "source": [
    "### Homework 2\n",
    "Modern Stellar Astrophysics \n",
    "\n",
    "Prof. Melissa Ness\n",
    "\n",
    "Yasmeen Asali \n",
    "\n",
    "October 18th, 2018"
   ]
  },
  {
   "cell_type": "code",
<<<<<<< HEAD
   "execution_count": 1,
=======
   "execution_count": 45,
>>>>>>> 7e5d18868fbec84dd527847fb4854098663ece98
   "metadata": {
    "collapsed": true
   },
   "outputs": [],
   "source": [
    "import numpy as np\n",
    "import astropy.units as u\n",
    "import matplotlib.pyplot as plt\n",
    "from scipy.stats import gaussian_kde"
   ]
  },
  {
   "cell_type": "markdown",
   "metadata": {},
   "source": [
    "### Problem 2\n",
    "\n"
   ]
  },
  {
   "cell_type": "code",
<<<<<<< HEAD
   "execution_count": null,
   "metadata": {
    "collapsed": true
   },
   "outputs": [],
=======
   "execution_count": 19,
   "metadata": {},
   "outputs": [
    {
     "name": "stdout",
     "output_type": "stream",
     "text": [
      "(7489269,)\n"
     ]
    }
   ],
>>>>>>> 7e5d18868fbec84dd527847fb4854098663ece98
   "source": [
    "dt = [('x','f8'),('y','f8'),('z','f8'),('vx','f8'),('vy','f8'),('vz','f8')]\n",
    "data = np.genfromtxt('modelR1GaiaChallenge',dtype=dt)\n",
    "np.save('modelR1data',data)"
   ]
  },
  {
   "cell_type": "code",
<<<<<<< HEAD
   "execution_count": 2,
=======
   "execution_count": 34,
>>>>>>> 7e5d18868fbec84dd527847fb4854098663ece98
   "metadata": {},
   "outputs": [
    {
     "name": "stdout",
     "output_type": "stream",
     "text": [
      "(7489269,)\n"
     ]
    }
   ],
   "source": [
    "modelR1data = np.load('modelR1data.npy')\n",
    "print(np.shape(modelR1data))"
   ]
  },
  {
   "cell_type": "code",
<<<<<<< HEAD
   "execution_count": 3,
=======
   "execution_count": 35,
>>>>>>> 7e5d18868fbec84dd527847fb4854098663ece98
   "metadata": {},
   "outputs": [
    {
     "data": {
      "text/plain": [
<<<<<<< HEAD
       "array([(-1.1855888 ,  0.3870438 ,  0.28164312,  -97.19944,   15.530616, -151.94402 ),\n",
=======
       "array([ (-1.1855888 ,  0.3870438 ,  0.28164312,  -97.19944,   15.530616, -151.94402 ),\n",
>>>>>>> 7e5d18868fbec84dd527847fb4854098663ece98
       "       ( 0.40000296,  0.24807201, -0.05270057, -175.68466,  223.81343 ,  184.67241 ),\n",
       "       (-1.0759624 , -0.55642074, -0.07496975,  135.59796, -137.67535 ,  112.96014 ),\n",
       "       ...,\n",
       "       ( 5.8122311 ,  5.6434278 , -0.08249884, -156.72023,   19.514315,  -34.014992),\n",
       "       (-5.9588952 , -5.5228796 , -0.02548528,  157.02412,  -21.07032 ,  -27.067957),\n",
       "       ( 5.6456079 ,  5.5886564 ,  0.08627713, -162.69707,   14.673622,  -19.854509)],\n",
       "      dtype=[('x', '<f8'), ('y', '<f8'), ('z', '<f8'), ('vx', '<f8'), ('vy', '<f8'), ('vz', '<f8')])"
      ]
     },
<<<<<<< HEAD
     "execution_count": 3,
=======
     "execution_count": 35,
>>>>>>> 7e5d18868fbec84dd527847fb4854098663ece98
     "metadata": {},
     "output_type": "execute_result"
    }
   ],
   "source": [
    "modelR1data"
   ]
  },
  {
   "cell_type": "code",
<<<<<<< HEAD
   "execution_count": 4,
=======
   "execution_count": 32,
>>>>>>> 7e5d18868fbec84dd527847fb4854098663ece98
   "metadata": {
    "collapsed": true
   },
   "outputs": [],
   "source": [
    "# how to make maps to see the central X-shaped structure\n",
    "#we have coords in xyz per star, along with their velocities\n",
    "# probably just plotting the starts in the x-z plane to start will be ok? "
   ]
  },
  {
   "cell_type": "code",
<<<<<<< HEAD
   "execution_count": 5,
=======
   "execution_count": 48,
>>>>>>> 7e5d18868fbec84dd527847fb4854098663ece98
   "metadata": {
    "collapsed": true
   },
   "outputs": [],
   "source": [
    "x = modelR1data['x']\n",
    "y = modelR1data['y']\n",
    "z = modelR1data['z']"
   ]
  },
  {
   "cell_type": "code",
<<<<<<< HEAD
   "execution_count": 6,
   "metadata": {
    "collapsed": true
   },
   "outputs": [],
   "source": [
    "idx_cut = np.random.randint(0, 7489269, 1000)"
   ]
  },
  {
   "cell_type": "code",
   "execution_count": 7,
   "metadata": {},
   "outputs": [
    {
     "data": {
      "text/plain": [
       "array([4453467, 5383802, 1295680, 2327781, 4323671, 5156863, 2820992,\n",
       "       6659296, 6987545, 4686902, 3978239, 6229873, 3886476, 2783436,\n",
       "       2300151, 2318968,  613613, 6653668, 3000666, 4953081, 5969136,\n",
       "       4873552, 4271116, 3360715,  812511, 7446488, 6997799, 3549920,\n",
       "       5175955, 5096057, 5389439, 1486370, 1906393, 1822764, 4332343,\n",
       "        218014, 7371748, 6787475, 2477983, 1543477, 5284247, 5195513,\n",
       "       2412639, 5320465,  675768,  218201, 5184782, 5841687, 6985693,\n",
       "        343693, 1263811, 3394671, 6817675, 1895519, 3795741, 6511499,\n",
       "        997271, 3955393,   23423, 3052273,  100145,  855165, 3179754,\n",
       "       6180080, 5734332, 6763673, 4804876, 3401021, 6195350, 1955186,\n",
       "       1876806, 3147333, 6093135, 1570287,    8553, 1183703, 2247632,\n",
       "       4610215, 2890231, 2249501, 5970181, 5213915, 3171734, 1989521,\n",
       "       1731422, 2886296, 3491263, 2871393, 1184272, 6579156, 3554389,\n",
       "       4766549, 6989016, 5271661, 6641265, 6073913, 7355064, 5075371,\n",
       "        398056, 5952753, 4653847, 1065095, 5183510, 5919775, 5504147,\n",
       "       6508727, 5350541, 2476237, 2611821, 2775774, 4432787, 5989609,\n",
       "       6335630, 1014190, 5627830, 4193991, 5779575, 6490768, 3488317,\n",
       "       4804518,  532510, 2485486, 2709751, 2237995, 3134757, 6511265,\n",
       "        189266, 6215886, 1147507, 2099749, 1776176, 3108820, 4928351,\n",
       "       6001109, 3704852, 1199537, 3021682, 2191457, 4755112, 5418593,\n",
       "       5323658,  279250, 1042020, 4926042, 2356301, 5790230, 7441640,\n",
       "       1298854,  569290, 1318615, 4333499, 2516490, 6522886, 2935261,\n",
       "       4818321, 5565086, 4622630, 4124771, 5596848, 3395374,  262888,\n",
       "       4764297,  118273, 5827014, 1508387, 2707994, 7108200, 7292665,\n",
       "       3782646, 1148765, 3390538,  470035, 5101262, 5423048, 1439998,\n",
       "       6907144, 2490072, 1205389, 2204154, 5357234,  159355, 1376625,\n",
       "       2342844, 4708185, 5300823, 6250152, 7222038, 3052861, 3191411,\n",
       "       3815406, 2828693, 2522165, 6844401, 1828108, 4034526, 6629948,\n",
       "       1627251, 3500863, 1674022, 6230838, 5071920, 4602605, 6299842,\n",
       "       7473069, 1330831, 3673395,   61947, 3566094, 2784376,  652931,\n",
       "       4529715, 4506449, 5999346, 1816672, 7428143, 5333870, 2762778,\n",
       "       2679243, 2218227, 2571950, 4111211, 7203623, 3585434, 2734160,\n",
       "       6337724, 2239228, 5853370,  268631, 3170571, 3798432, 1176659,\n",
       "       2286799, 4585283, 6588291, 6758124, 6886255, 6169737, 2380868,\n",
       "       7216479, 2240980, 6722554, 4207341, 2004857, 1766658, 3061023,\n",
       "        707305, 4396269, 6516420, 1486442, 5271515, 4966360, 5096510,\n",
       "       3069444, 5382081, 5117569,  811839, 6351317,  852925, 5875707,\n",
       "       2144008, 5731301, 3199208, 2664918,  335452, 3546035, 3621260,\n",
       "        391744, 3353126,  867609, 5813824, 6725675, 5648493, 6564413,\n",
       "       5048240, 6520602, 7082590, 4453128, 7045539, 5473011, 3629762,\n",
       "       5607384, 1423494, 3930718, 3952687, 6061485, 5229857, 6459551,\n",
       "        334886, 2108935, 1032047, 5186346, 4786212, 3861730, 4757875,\n",
       "       3054882, 2666854, 1095402,  823918,  390938, 4258631, 7278590,\n",
       "       3379148, 5474342, 1694738,  333014, 6301135, 3182062, 2976956,\n",
       "       3670802, 4169547, 6207525,  979774, 4710322, 6229663, 3148557,\n",
       "       4388555, 3497423, 6193286, 6930104, 4024675, 6833703, 7455148,\n",
       "       4565719, 3743905, 3171209, 5164120, 1282865, 1043446, 2075036,\n",
       "        223290, 6450433, 3074436, 1306928, 4453099, 4404046,  615063,\n",
       "       5325656, 2417841, 4188789, 5940193, 5009080, 6580276, 2467037,\n",
       "       5666199, 3995653, 1705187, 3085278, 7439350, 2627129, 1098007,\n",
       "       4927867, 6263009, 4650352, 4106583, 7041676, 7243515, 5172341,\n",
       "        412662,  310569, 6880020,  822922, 3172517, 7241694, 5461670,\n",
       "       2155458, 3588580, 7202761,  201423, 2038941, 2776904, 6782212,\n",
       "       5651094, 4856525,  420056, 6881371, 4032959, 6936817, 4822244,\n",
       "        807011, 5386104,  367526, 4745424, 6294445, 1535612, 3773467,\n",
       "       6367529, 5961892, 6815163, 2691402, 6856983, 3577755, 3444092,\n",
       "       5925523,  934750, 6304984, 4749934, 2738919, 6847814, 6085797,\n",
       "       6103461,  583532, 7331362, 4535251, 4677431, 7371168,  259668,\n",
       "        723540,  736963,  892230, 4457955, 4888759, 7190729, 4856803,\n",
       "       1709647, 5199675, 2186413, 7272993, 4895772, 6341754, 7135352,\n",
       "       2291988, 6639771, 7244923,  815254, 5641075, 4389211, 6922275,\n",
       "       6935136, 6209061,  389993, 6991332, 1916656, 2217622, 3763814,\n",
       "       1946277, 2969722, 1062389, 5186709, 5433458, 3289052, 1643639,\n",
       "       3554585, 4673410,  160510, 3025225, 4326803, 3547429, 7313905,\n",
       "        876729,  294400, 3179577, 1839316, 4432735, 5066427,  980639,\n",
       "       1576681, 3411529, 5194673, 4341390,  875215, 4742389, 6200264,\n",
       "       5736294, 1116722, 4958870, 4292388,  907294, 5935060, 1537140,\n",
       "       1291672, 3103253, 1675500, 1087306, 5799758, 5814988, 7042942,\n",
       "       4553434,  932563,   35773, 4773396, 2535508, 5369271, 2581277,\n",
       "        814616, 4782447, 1088116, 7343390, 5291614, 2917615, 5782222,\n",
       "         89589, 3145305, 6226079, 5067310, 3727429, 3891666, 5775334,\n",
       "       5156616, 7101821,   93090, 3261160, 5023391, 6736650, 3958262,\n",
       "       5536630, 1917259,  572953, 1190630,  306542, 2758357, 1510593,\n",
       "       2870550,  911764, 4101675,  134577, 5593097, 5985530, 6223591,\n",
       "       5171371,  483766, 1367674, 1229780,  462690, 5359821, 2048262,\n",
       "       5342898, 5916349,  255802, 6580838,  374839, 4191496, 7312854,\n",
       "       7346337, 7121091, 5513687, 6156663, 6361779, 1297485, 6158952,\n",
       "       6848383, 6993703, 2297470, 3988181, 3726535, 6264869, 5540166,\n",
       "       1006357,  933069, 6436907,  128256, 6221243, 1118586, 5698051,\n",
       "        689309,  354446,  997631, 3582703, 4839567, 5792139,  696848,\n",
       "        613830, 3169297, 4577329, 6839297, 7264932, 4592903, 6396074,\n",
       "       5193749, 4736333, 4912799, 5206204, 7206519,  479451, 3545224,\n",
       "       7145897, 5481341, 1449506, 2735784, 3941715,  571860, 5894848,\n",
       "       2982410, 4954004, 3408652, 3786000, 4135602,  372298, 3894646,\n",
       "       2975807, 6241561, 4513454,  544653, 7269858,  910927, 1262290,\n",
       "       1732882, 1059767, 3660601, 6614940, 3552691, 4074121, 5929318,\n",
       "        277286, 6890960,   39326, 5576624, 1964031, 1903940, 3339839,\n",
       "        182910, 2614582, 5067864, 7019246, 5279174, 5703118, 6008410,\n",
       "       4592755, 4078825,  489356, 5149217, 3091523, 2452114, 3515919,\n",
       "       6951966, 6531965, 1982237, 5673678, 6517457, 2909748, 1523252,\n",
       "       4161891,  545322, 6522659, 2536890,  730364, 1196293, 5699814,\n",
       "       1845967, 1603117, 1119014, 3255988,  339315,  193050, 3266230,\n",
       "       1704162, 7268794, 1886598, 4501800, 2069766, 3386214,  645102,\n",
       "       1491226, 2304096,  776977,  937107,   93738, 4678002, 6000885,\n",
       "       4284690, 6820889, 4053606, 5062303, 6518877,  828004, 4130396,\n",
       "       4145025,  880307, 2092314, 4756756, 4058456, 3221368, 2729563,\n",
       "       1046223, 7105787, 5793720, 4489849, 7320998, 3227308,  497985,\n",
       "       3598537, 6075910, 4844836, 5063826, 7043270, 1021491, 7460042,\n",
       "       3338912, 7372400, 4076921, 1780722, 4660935, 4496514,  229276,\n",
       "       3452893, 5821493, 2700323,  530105,  505478, 4182311, 1829390,\n",
       "       5957583,  659528, 2800257, 2887071, 3098981, 6190857, 5735764,\n",
       "       1837719,  711652, 7334548, 1224571, 1170905,    7465, 6536073,\n",
       "       2571315, 2307011, 2695334, 5913706, 4166164, 3827643,  505477,\n",
       "        467652, 1858770, 1798835, 7409784, 3428579, 2262032, 3282835,\n",
       "       2393934, 5229971, 2714874, 2930209, 7014552, 5470001, 4749017,\n",
       "       4505057, 5735626, 5460222, 5872936, 5605280, 3642851,  157212,\n",
       "       2576415,    8735,   36286, 3601301, 2067963, 3434586, 5256443,\n",
       "       1505020, 5462915, 2300377, 7093775,  906555, 4537496,  898887,\n",
       "       5393789, 6213717, 6029072, 5615267, 3752304,  274512, 5661306,\n",
       "       7407869, 1882615, 2394615, 5454945, 3356232,   68983, 3538966,\n",
       "       7201631, 4744951, 3740411, 4594078, 1112278, 2295734, 3031637,\n",
       "       4093703, 4823945, 1296421, 4975461, 5701040, 4588402, 2029699,\n",
       "       5201217, 3096096, 3091334, 4234306, 4379121, 5870072, 3220074,\n",
       "       1957548, 4703543, 2968398, 3234481, 6719503, 2351348, 7148936,\n",
       "          2805, 7339624, 2091706, 6043602, 4491031, 2450391,   28613,\n",
       "       1073790, 5779977, 4924397,  350063, 6449299,  685878, 3066759,\n",
       "       4460432, 6620853, 3536281, 4544532,  865835, 5111863, 6824859,\n",
       "        276576, 4445045, 4436293, 5013169, 1369058, 4092609, 7101586,\n",
       "       1989938,  621637,  531760, 2196855, 7047662, 1594765, 5493361,\n",
       "       7388758, 6990667, 4224652, 2310998, 2602992, 1070190, 1857675,\n",
       "       2136640, 1951648, 6580135, 4728455,  482217, 4321151, 4366003,\n",
       "       2548067, 6195229, 1747928, 4414310, 4363955, 2607431,  781835,\n",
       "       4663880, 6235991, 6146251, 6961609, 5519987, 4002067, 3520027,\n",
       "       3809174,  732891,  497965, 4529673, 1666339, 1139372, 3845765,\n",
       "       4536486, 1921457, 3249438, 2889256, 4036956, 3831078, 4460148,\n",
       "       3986047, 3750034, 3803326, 1617770, 3560788, 1968832, 1216211,\n",
       "       5780990,   62465, 5084686, 1271849, 6524820, 6586871, 3774750,\n",
       "        722193, 6492559, 5283251, 3353171, 2782296, 6243571, 3404740,\n",
       "       5367254, 3286009, 2135135, 3243796, 7240094, 4401965, 3302262,\n",
       "       2164240, 5143969,  623341, 5173765, 1967569, 4267142,  917852,\n",
       "       6742411, 5035603, 6196416, 4467666,  636245, 3024744, 4119522,\n",
       "        297983, 4007466, 6934402, 4793377,  744948, 5129485, 2916652,\n",
       "       5871150, 4300683, 2288337, 4318483,  601073, 1055003, 2303635,\n",
       "       5019527, 5502157, 6546460, 2658917, 2368237, 2315412, 5640049,\n",
       "       1004201, 6950457, 7034684, 2748794,  771237, 6000088, 5399502,\n",
       "       3555107, 2480429, 3071014,  411447, 1085067, 5674234, 4384945,\n",
       "       6307398, 7216860, 6923338, 3660423, 4562064, 2192719, 1255200,\n",
       "       4540909, 2686028, 1694774, 3162056, 2850733, 3715213, 5664938,\n",
       "       1034128,  717888, 2224566, 2923279, 5164118, 4040468,  233382,\n",
       "       4553636, 1957827, 7040145, 6558401,  227328, 2241883, 2304070,\n",
       "       7357363, 1470790, 4173263, 2619008, 6522437, 1790949, 1546635,\n",
       "       1396228, 1862905, 1951446, 4336495, 3777302,  832160, 2300961,\n",
       "       2329569, 5105731, 1512161, 5388196, 6153129, 4816185])"
      ]
     },
     "execution_count": 7,
     "metadata": {},
     "output_type": "execute_result"
    }
   ],
   "source": [
    "idx_cut"
   ]
  },
  {
   "cell_type": "code",
   "execution_count": 8,
   "metadata": {
    "collapsed": true
   },
   "outputs": [],
   "source": [
    "x = x[idx_cut]\n",
    "y = y[idx_cut]\n",
    "z = z[idx_cut]"
   ]
  },
  {
   "cell_type": "code",
   "execution_count": 9,
=======
   "execution_count": null,
>>>>>>> 7e5d18868fbec84dd527847fb4854098663ece98
   "metadata": {
    "collapsed": true
   },
   "outputs": [],
   "source": [
    "#use a numpy function to np.random.rand to create an array that goes \n",
    "#from 0 to the total number of stars\n",
    "#with some 10,000 stars \n",
    "\n",
    "#subset of the data \n",
    "\n",
<<<<<<< HEAD
    "# so 0 to 7 million\n",
=======
    "np.random.randit(0, 10, 100) # so 0 to 7 million\n",
>>>>>>> 7e5d18868fbec84dd527847fb4854098663ece98
    "#100 is the number of points you want ex 10,000\n",
    "\n",
    "#index your x,y,z\n",
    "#before you do this, take x,y,z less that five (kpc)\n",
    "#don't do it for 7 million \n",
    "#2d histogram \n",
    "#unsharp mask - subtract instead of divide if in log \n",
    "#divide if density is in linear scale "
   ]
  },
  {
   "cell_type": "code",
<<<<<<< HEAD
   "execution_count": 10,
=======
   "execution_count": null,
>>>>>>> 7e5d18868fbec84dd527847fb4854098663ece98
   "metadata": {
    "collapsed": true
   },
   "outputs": [],
   "source": [
    "#point density in xz plane\n",
    "xz_num = np.vstack([x,z])\n",
    "c_num = gaussian_kde(xz_num)(xz_num)"
   ]
  },
  {
   "cell_type": "code",
<<<<<<< HEAD
   "execution_count": 11,
=======
   "execution_count": null,
>>>>>>> 7e5d18868fbec84dd527847fb4854098663ece98
   "metadata": {
    "collapsed": true
   },
   "outputs": [],
   "source": [
    "#sort by density, so that the densest points are plotted last\n",
<<<<<<< HEAD
    "idx_dens = c_num.argsort()\n",
    "x, z, c_num = x[idx_dens], z[idx_dens], c_num[idx_dens]"
=======
    "idx = c_num.argsort()\n",
    "x, y, c_num = x[idx], y[idx], c_num[idx]"
>>>>>>> 7e5d18868fbec84dd527847fb4854098663ece98
   ]
  },
  {
   "cell_type": "code",
<<<<<<< HEAD
   "execution_count": 13,
   "metadata": {},
   "outputs": [
    {
     "ename": "ValueError",
     "evalue": "RGBA sequence should have length 3 or 4",
     "output_type": "error",
     "traceback": [
      "\u001b[0;31m---------------------------------------------------------------------------\u001b[0m",
      "\u001b[0;31mTypeError\u001b[0m                                 Traceback (most recent call last)",
      "\u001b[0;32m~/anaconda3/lib/python3.6/site-packages/matplotlib/colors.py\u001b[0m in \u001b[0;36mto_rgba\u001b[0;34m(c, alpha)\u001b[0m\n\u001b[1;32m    165\u001b[0m     \u001b[0;32mtry\u001b[0m\u001b[0;34m:\u001b[0m\u001b[0;34m\u001b[0m\u001b[0m\n\u001b[0;32m--> 166\u001b[0;31m         \u001b[0mrgba\u001b[0m \u001b[0;34m=\u001b[0m \u001b[0m_colors_full_map\u001b[0m\u001b[0;34m.\u001b[0m\u001b[0mcache\u001b[0m\u001b[0;34m[\u001b[0m\u001b[0mc\u001b[0m\u001b[0;34m,\u001b[0m \u001b[0malpha\u001b[0m\u001b[0;34m]\u001b[0m\u001b[0;34m\u001b[0m\u001b[0m\n\u001b[0m\u001b[1;32m    167\u001b[0m     \u001b[0;32mexcept\u001b[0m \u001b[0;34m(\u001b[0m\u001b[0mKeyError\u001b[0m\u001b[0;34m,\u001b[0m \u001b[0mTypeError\u001b[0m\u001b[0;34m)\u001b[0m\u001b[0;34m:\u001b[0m  \u001b[0;31m# Not in cache, or unhashable.\u001b[0m\u001b[0;34m\u001b[0m\u001b[0m\n",
      "\u001b[0;31mTypeError\u001b[0m: unhashable type: 'numpy.ndarray'",
      "\nDuring handling of the above exception, another exception occurred:\n",
      "\u001b[0;31mValueError\u001b[0m                                Traceback (most recent call last)",
      "\u001b[0;32m~/anaconda3/lib/python3.6/site-packages/IPython/core/formatters.py\u001b[0m in \u001b[0;36m__call__\u001b[0;34m(self, obj)\u001b[0m\n\u001b[1;32m    330\u001b[0m                 \u001b[0;32mpass\u001b[0m\u001b[0;34m\u001b[0m\u001b[0m\n\u001b[1;32m    331\u001b[0m             \u001b[0;32melse\u001b[0m\u001b[0;34m:\u001b[0m\u001b[0;34m\u001b[0m\u001b[0m\n\u001b[0;32m--> 332\u001b[0;31m                 \u001b[0;32mreturn\u001b[0m \u001b[0mprinter\u001b[0m\u001b[0;34m(\u001b[0m\u001b[0mobj\u001b[0m\u001b[0;34m)\u001b[0m\u001b[0;34m\u001b[0m\u001b[0m\n\u001b[0m\u001b[1;32m    333\u001b[0m             \u001b[0;31m# Finally look for special method names\u001b[0m\u001b[0;34m\u001b[0m\u001b[0;34m\u001b[0m\u001b[0m\n\u001b[1;32m    334\u001b[0m             \u001b[0mmethod\u001b[0m \u001b[0;34m=\u001b[0m \u001b[0mget_real_method\u001b[0m\u001b[0;34m(\u001b[0m\u001b[0mobj\u001b[0m\u001b[0;34m,\u001b[0m \u001b[0mself\u001b[0m\u001b[0;34m.\u001b[0m\u001b[0mprint_method\u001b[0m\u001b[0;34m)\u001b[0m\u001b[0;34m\u001b[0m\u001b[0m\n",
      "\u001b[0;32m~/anaconda3/lib/python3.6/site-packages/IPython/core/pylabtools.py\u001b[0m in \u001b[0;36m<lambda>\u001b[0;34m(fig)\u001b[0m\n\u001b[1;32m    235\u001b[0m \u001b[0;34m\u001b[0m\u001b[0m\n\u001b[1;32m    236\u001b[0m     \u001b[0;32mif\u001b[0m \u001b[0;34m'png'\u001b[0m \u001b[0;32min\u001b[0m \u001b[0mformats\u001b[0m\u001b[0;34m:\u001b[0m\u001b[0;34m\u001b[0m\u001b[0m\n\u001b[0;32m--> 237\u001b[0;31m         \u001b[0mpng_formatter\u001b[0m\u001b[0;34m.\u001b[0m\u001b[0mfor_type\u001b[0m\u001b[0;34m(\u001b[0m\u001b[0mFigure\u001b[0m\u001b[0;34m,\u001b[0m \u001b[0;32mlambda\u001b[0m \u001b[0mfig\u001b[0m\u001b[0;34m:\u001b[0m \u001b[0mprint_figure\u001b[0m\u001b[0;34m(\u001b[0m\u001b[0mfig\u001b[0m\u001b[0;34m,\u001b[0m \u001b[0;34m'png'\u001b[0m\u001b[0;34m,\u001b[0m \u001b[0;34m**\u001b[0m\u001b[0mkwargs\u001b[0m\u001b[0;34m)\u001b[0m\u001b[0;34m)\u001b[0m\u001b[0;34m\u001b[0m\u001b[0m\n\u001b[0m\u001b[1;32m    238\u001b[0m     \u001b[0;32mif\u001b[0m \u001b[0;34m'retina'\u001b[0m \u001b[0;32min\u001b[0m \u001b[0mformats\u001b[0m \u001b[0;32mor\u001b[0m \u001b[0;34m'png2x'\u001b[0m \u001b[0;32min\u001b[0m \u001b[0mformats\u001b[0m\u001b[0;34m:\u001b[0m\u001b[0;34m\u001b[0m\u001b[0m\n\u001b[1;32m    239\u001b[0m         \u001b[0mpng_formatter\u001b[0m\u001b[0;34m.\u001b[0m\u001b[0mfor_type\u001b[0m\u001b[0;34m(\u001b[0m\u001b[0mFigure\u001b[0m\u001b[0;34m,\u001b[0m \u001b[0;32mlambda\u001b[0m \u001b[0mfig\u001b[0m\u001b[0;34m:\u001b[0m \u001b[0mretina_figure\u001b[0m\u001b[0;34m(\u001b[0m\u001b[0mfig\u001b[0m\u001b[0;34m,\u001b[0m \u001b[0;34m**\u001b[0m\u001b[0mkwargs\u001b[0m\u001b[0;34m)\u001b[0m\u001b[0;34m)\u001b[0m\u001b[0;34m\u001b[0m\u001b[0m\n",
      "\u001b[0;32m~/anaconda3/lib/python3.6/site-packages/IPython/core/pylabtools.py\u001b[0m in \u001b[0;36mprint_figure\u001b[0;34m(fig, fmt, bbox_inches, **kwargs)\u001b[0m\n\u001b[1;32m    119\u001b[0m \u001b[0;34m\u001b[0m\u001b[0m\n\u001b[1;32m    120\u001b[0m     \u001b[0mbytes_io\u001b[0m \u001b[0;34m=\u001b[0m \u001b[0mBytesIO\u001b[0m\u001b[0;34m(\u001b[0m\u001b[0;34m)\u001b[0m\u001b[0;34m\u001b[0m\u001b[0m\n\u001b[0;32m--> 121\u001b[0;31m     \u001b[0mfig\u001b[0m\u001b[0;34m.\u001b[0m\u001b[0mcanvas\u001b[0m\u001b[0;34m.\u001b[0m\u001b[0mprint_figure\u001b[0m\u001b[0;34m(\u001b[0m\u001b[0mbytes_io\u001b[0m\u001b[0;34m,\u001b[0m \u001b[0;34m**\u001b[0m\u001b[0mkw\u001b[0m\u001b[0;34m)\u001b[0m\u001b[0;34m\u001b[0m\u001b[0m\n\u001b[0m\u001b[1;32m    122\u001b[0m     \u001b[0mdata\u001b[0m \u001b[0;34m=\u001b[0m \u001b[0mbytes_io\u001b[0m\u001b[0;34m.\u001b[0m\u001b[0mgetvalue\u001b[0m\u001b[0;34m(\u001b[0m\u001b[0;34m)\u001b[0m\u001b[0;34m\u001b[0m\u001b[0m\n\u001b[1;32m    123\u001b[0m     \u001b[0;32mif\u001b[0m \u001b[0mfmt\u001b[0m \u001b[0;34m==\u001b[0m \u001b[0;34m'svg'\u001b[0m\u001b[0;34m:\u001b[0m\u001b[0;34m\u001b[0m\u001b[0m\n",
      "\u001b[0;32m~/anaconda3/lib/python3.6/site-packages/matplotlib/backend_bases.py\u001b[0m in \u001b[0;36mprint_figure\u001b[0;34m(self, filename, dpi, facecolor, edgecolor, orientation, format, **kwargs)\u001b[0m\n\u001b[1;32m   2210\u001b[0m                     \u001b[0morientation\u001b[0m\u001b[0;34m=\u001b[0m\u001b[0morientation\u001b[0m\u001b[0;34m,\u001b[0m\u001b[0;34m\u001b[0m\u001b[0m\n\u001b[1;32m   2211\u001b[0m                     \u001b[0mdryrun\u001b[0m\u001b[0;34m=\u001b[0m\u001b[0;32mTrue\u001b[0m\u001b[0;34m,\u001b[0m\u001b[0;34m\u001b[0m\u001b[0m\n\u001b[0;32m-> 2212\u001b[0;31m                     **kwargs)\n\u001b[0m\u001b[1;32m   2213\u001b[0m                 \u001b[0mrenderer\u001b[0m \u001b[0;34m=\u001b[0m \u001b[0mself\u001b[0m\u001b[0;34m.\u001b[0m\u001b[0mfigure\u001b[0m\u001b[0;34m.\u001b[0m\u001b[0m_cachedRenderer\u001b[0m\u001b[0;34m\u001b[0m\u001b[0m\n\u001b[1;32m   2214\u001b[0m                 \u001b[0mbbox_inches\u001b[0m \u001b[0;34m=\u001b[0m \u001b[0mself\u001b[0m\u001b[0;34m.\u001b[0m\u001b[0mfigure\u001b[0m\u001b[0;34m.\u001b[0m\u001b[0mget_tightbbox\u001b[0m\u001b[0;34m(\u001b[0m\u001b[0mrenderer\u001b[0m\u001b[0;34m)\u001b[0m\u001b[0;34m\u001b[0m\u001b[0m\n",
      "\u001b[0;32m~/anaconda3/lib/python3.6/site-packages/matplotlib/backends/backend_agg.py\u001b[0m in \u001b[0;36mprint_png\u001b[0;34m(self, filename_or_obj, *args, **kwargs)\u001b[0m\n\u001b[1;32m    511\u001b[0m \u001b[0;34m\u001b[0m\u001b[0m\n\u001b[1;32m    512\u001b[0m     \u001b[0;32mdef\u001b[0m \u001b[0mprint_png\u001b[0m\u001b[0;34m(\u001b[0m\u001b[0mself\u001b[0m\u001b[0;34m,\u001b[0m \u001b[0mfilename_or_obj\u001b[0m\u001b[0;34m,\u001b[0m \u001b[0;34m*\u001b[0m\u001b[0margs\u001b[0m\u001b[0;34m,\u001b[0m \u001b[0;34m**\u001b[0m\u001b[0mkwargs\u001b[0m\u001b[0;34m)\u001b[0m\u001b[0;34m:\u001b[0m\u001b[0;34m\u001b[0m\u001b[0m\n\u001b[0;32m--> 513\u001b[0;31m         \u001b[0mFigureCanvasAgg\u001b[0m\u001b[0;34m.\u001b[0m\u001b[0mdraw\u001b[0m\u001b[0;34m(\u001b[0m\u001b[0mself\u001b[0m\u001b[0;34m)\u001b[0m\u001b[0;34m\u001b[0m\u001b[0m\n\u001b[0m\u001b[1;32m    514\u001b[0m         \u001b[0mrenderer\u001b[0m \u001b[0;34m=\u001b[0m \u001b[0mself\u001b[0m\u001b[0;34m.\u001b[0m\u001b[0mget_renderer\u001b[0m\u001b[0;34m(\u001b[0m\u001b[0;34m)\u001b[0m\u001b[0;34m\u001b[0m\u001b[0m\n\u001b[1;32m    515\u001b[0m         \u001b[0moriginal_dpi\u001b[0m \u001b[0;34m=\u001b[0m \u001b[0mrenderer\u001b[0m\u001b[0;34m.\u001b[0m\u001b[0mdpi\u001b[0m\u001b[0;34m\u001b[0m\u001b[0m\n",
      "\u001b[0;32m~/anaconda3/lib/python3.6/site-packages/matplotlib/backends/backend_agg.py\u001b[0m in \u001b[0;36mdraw\u001b[0;34m(self)\u001b[0m\n\u001b[1;32m    431\u001b[0m             \u001b[0;31m# if toolbar:\u001b[0m\u001b[0;34m\u001b[0m\u001b[0;34m\u001b[0m\u001b[0m\n\u001b[1;32m    432\u001b[0m             \u001b[0;31m#     toolbar.set_cursor(cursors.WAIT)\u001b[0m\u001b[0;34m\u001b[0m\u001b[0;34m\u001b[0m\u001b[0m\n\u001b[0;32m--> 433\u001b[0;31m             \u001b[0mself\u001b[0m\u001b[0;34m.\u001b[0m\u001b[0mfigure\u001b[0m\u001b[0;34m.\u001b[0m\u001b[0mdraw\u001b[0m\u001b[0;34m(\u001b[0m\u001b[0mself\u001b[0m\u001b[0;34m.\u001b[0m\u001b[0mrenderer\u001b[0m\u001b[0;34m)\u001b[0m\u001b[0;34m\u001b[0m\u001b[0m\n\u001b[0m\u001b[1;32m    434\u001b[0m             \u001b[0;31m# A GUI class may be need to update a window using this draw, so\u001b[0m\u001b[0;34m\u001b[0m\u001b[0;34m\u001b[0m\u001b[0m\n\u001b[1;32m    435\u001b[0m             \u001b[0;31m# don't forget to call the superclass.\u001b[0m\u001b[0;34m\u001b[0m\u001b[0;34m\u001b[0m\u001b[0m\n",
      "\u001b[0;32m~/anaconda3/lib/python3.6/site-packages/matplotlib/artist.py\u001b[0m in \u001b[0;36mdraw_wrapper\u001b[0;34m(artist, renderer, *args, **kwargs)\u001b[0m\n\u001b[1;32m     53\u001b[0m                 \u001b[0mrenderer\u001b[0m\u001b[0;34m.\u001b[0m\u001b[0mstart_filter\u001b[0m\u001b[0;34m(\u001b[0m\u001b[0;34m)\u001b[0m\u001b[0;34m\u001b[0m\u001b[0m\n\u001b[1;32m     54\u001b[0m \u001b[0;34m\u001b[0m\u001b[0m\n\u001b[0;32m---> 55\u001b[0;31m             \u001b[0;32mreturn\u001b[0m \u001b[0mdraw\u001b[0m\u001b[0;34m(\u001b[0m\u001b[0martist\u001b[0m\u001b[0;34m,\u001b[0m \u001b[0mrenderer\u001b[0m\u001b[0;34m,\u001b[0m \u001b[0;34m*\u001b[0m\u001b[0margs\u001b[0m\u001b[0;34m,\u001b[0m \u001b[0;34m**\u001b[0m\u001b[0mkwargs\u001b[0m\u001b[0;34m)\u001b[0m\u001b[0;34m\u001b[0m\u001b[0m\n\u001b[0m\u001b[1;32m     56\u001b[0m         \u001b[0;32mfinally\u001b[0m\u001b[0;34m:\u001b[0m\u001b[0;34m\u001b[0m\u001b[0m\n\u001b[1;32m     57\u001b[0m             \u001b[0;32mif\u001b[0m \u001b[0martist\u001b[0m\u001b[0;34m.\u001b[0m\u001b[0mget_agg_filter\u001b[0m\u001b[0;34m(\u001b[0m\u001b[0;34m)\u001b[0m \u001b[0;32mis\u001b[0m \u001b[0;32mnot\u001b[0m \u001b[0;32mNone\u001b[0m\u001b[0;34m:\u001b[0m\u001b[0;34m\u001b[0m\u001b[0m\n",
      "\u001b[0;32m~/anaconda3/lib/python3.6/site-packages/matplotlib/figure.py\u001b[0m in \u001b[0;36mdraw\u001b[0;34m(self, renderer)\u001b[0m\n\u001b[1;32m   1473\u001b[0m \u001b[0;34m\u001b[0m\u001b[0m\n\u001b[1;32m   1474\u001b[0m             mimage._draw_list_compositing_images(\n\u001b[0;32m-> 1475\u001b[0;31m                 renderer, self, artists, self.suppressComposite)\n\u001b[0m\u001b[1;32m   1476\u001b[0m \u001b[0;34m\u001b[0m\u001b[0m\n\u001b[1;32m   1477\u001b[0m             \u001b[0mrenderer\u001b[0m\u001b[0;34m.\u001b[0m\u001b[0mclose_group\u001b[0m\u001b[0;34m(\u001b[0m\u001b[0;34m'figure'\u001b[0m\u001b[0;34m)\u001b[0m\u001b[0;34m\u001b[0m\u001b[0m\n",
      "\u001b[0;32m~/anaconda3/lib/python3.6/site-packages/matplotlib/image.py\u001b[0m in \u001b[0;36m_draw_list_compositing_images\u001b[0;34m(renderer, parent, artists, suppress_composite)\u001b[0m\n\u001b[1;32m    139\u001b[0m     \u001b[0;32mif\u001b[0m \u001b[0mnot_composite\u001b[0m \u001b[0;32mor\u001b[0m \u001b[0;32mnot\u001b[0m \u001b[0mhas_images\u001b[0m\u001b[0;34m:\u001b[0m\u001b[0;34m\u001b[0m\u001b[0m\n\u001b[1;32m    140\u001b[0m         \u001b[0;32mfor\u001b[0m \u001b[0ma\u001b[0m \u001b[0;32min\u001b[0m \u001b[0martists\u001b[0m\u001b[0;34m:\u001b[0m\u001b[0;34m\u001b[0m\u001b[0m\n\u001b[0;32m--> 141\u001b[0;31m             \u001b[0ma\u001b[0m\u001b[0;34m.\u001b[0m\u001b[0mdraw\u001b[0m\u001b[0;34m(\u001b[0m\u001b[0mrenderer\u001b[0m\u001b[0;34m)\u001b[0m\u001b[0;34m\u001b[0m\u001b[0m\n\u001b[0m\u001b[1;32m    142\u001b[0m     \u001b[0;32melse\u001b[0m\u001b[0;34m:\u001b[0m\u001b[0;34m\u001b[0m\u001b[0m\n\u001b[1;32m    143\u001b[0m         \u001b[0;31m# Composite any adjacent images together\u001b[0m\u001b[0;34m\u001b[0m\u001b[0;34m\u001b[0m\u001b[0m\n",
      "\u001b[0;32m~/anaconda3/lib/python3.6/site-packages/matplotlib/artist.py\u001b[0m in \u001b[0;36mdraw_wrapper\u001b[0;34m(artist, renderer, *args, **kwargs)\u001b[0m\n\u001b[1;32m     53\u001b[0m                 \u001b[0mrenderer\u001b[0m\u001b[0;34m.\u001b[0m\u001b[0mstart_filter\u001b[0m\u001b[0;34m(\u001b[0m\u001b[0;34m)\u001b[0m\u001b[0;34m\u001b[0m\u001b[0m\n\u001b[1;32m     54\u001b[0m \u001b[0;34m\u001b[0m\u001b[0m\n\u001b[0;32m---> 55\u001b[0;31m             \u001b[0;32mreturn\u001b[0m \u001b[0mdraw\u001b[0m\u001b[0;34m(\u001b[0m\u001b[0martist\u001b[0m\u001b[0;34m,\u001b[0m \u001b[0mrenderer\u001b[0m\u001b[0;34m,\u001b[0m \u001b[0;34m*\u001b[0m\u001b[0margs\u001b[0m\u001b[0;34m,\u001b[0m \u001b[0;34m**\u001b[0m\u001b[0mkwargs\u001b[0m\u001b[0;34m)\u001b[0m\u001b[0;34m\u001b[0m\u001b[0m\n\u001b[0m\u001b[1;32m     56\u001b[0m         \u001b[0;32mfinally\u001b[0m\u001b[0;34m:\u001b[0m\u001b[0;34m\u001b[0m\u001b[0m\n\u001b[1;32m     57\u001b[0m             \u001b[0;32mif\u001b[0m \u001b[0martist\u001b[0m\u001b[0;34m.\u001b[0m\u001b[0mget_agg_filter\u001b[0m\u001b[0;34m(\u001b[0m\u001b[0;34m)\u001b[0m \u001b[0;32mis\u001b[0m \u001b[0;32mnot\u001b[0m \u001b[0;32mNone\u001b[0m\u001b[0;34m:\u001b[0m\u001b[0;34m\u001b[0m\u001b[0m\n",
      "\u001b[0;32m~/anaconda3/lib/python3.6/site-packages/matplotlib/axes/_base.py\u001b[0m in \u001b[0;36mdraw\u001b[0;34m(self, renderer, inframe)\u001b[0m\n\u001b[1;32m   2605\u001b[0m             \u001b[0mrenderer\u001b[0m\u001b[0;34m.\u001b[0m\u001b[0mstop_rasterizing\u001b[0m\u001b[0;34m(\u001b[0m\u001b[0;34m)\u001b[0m\u001b[0;34m\u001b[0m\u001b[0m\n\u001b[1;32m   2606\u001b[0m \u001b[0;34m\u001b[0m\u001b[0m\n\u001b[0;32m-> 2607\u001b[0;31m         \u001b[0mmimage\u001b[0m\u001b[0;34m.\u001b[0m\u001b[0m_draw_list_compositing_images\u001b[0m\u001b[0;34m(\u001b[0m\u001b[0mrenderer\u001b[0m\u001b[0;34m,\u001b[0m \u001b[0mself\u001b[0m\u001b[0;34m,\u001b[0m \u001b[0martists\u001b[0m\u001b[0;34m)\u001b[0m\u001b[0;34m\u001b[0m\u001b[0m\n\u001b[0m\u001b[1;32m   2608\u001b[0m \u001b[0;34m\u001b[0m\u001b[0m\n\u001b[1;32m   2609\u001b[0m         \u001b[0mrenderer\u001b[0m\u001b[0;34m.\u001b[0m\u001b[0mclose_group\u001b[0m\u001b[0;34m(\u001b[0m\u001b[0;34m'axes'\u001b[0m\u001b[0;34m)\u001b[0m\u001b[0;34m\u001b[0m\u001b[0m\n",
      "\u001b[0;32m~/anaconda3/lib/python3.6/site-packages/matplotlib/image.py\u001b[0m in \u001b[0;36m_draw_list_compositing_images\u001b[0;34m(renderer, parent, artists, suppress_composite)\u001b[0m\n\u001b[1;32m    139\u001b[0m     \u001b[0;32mif\u001b[0m \u001b[0mnot_composite\u001b[0m \u001b[0;32mor\u001b[0m \u001b[0;32mnot\u001b[0m \u001b[0mhas_images\u001b[0m\u001b[0;34m:\u001b[0m\u001b[0;34m\u001b[0m\u001b[0m\n\u001b[1;32m    140\u001b[0m         \u001b[0;32mfor\u001b[0m \u001b[0ma\u001b[0m \u001b[0;32min\u001b[0m \u001b[0martists\u001b[0m\u001b[0;34m:\u001b[0m\u001b[0;34m\u001b[0m\u001b[0m\n\u001b[0;32m--> 141\u001b[0;31m             \u001b[0ma\u001b[0m\u001b[0;34m.\u001b[0m\u001b[0mdraw\u001b[0m\u001b[0;34m(\u001b[0m\u001b[0mrenderer\u001b[0m\u001b[0;34m)\u001b[0m\u001b[0;34m\u001b[0m\u001b[0m\n\u001b[0m\u001b[1;32m    142\u001b[0m     \u001b[0;32melse\u001b[0m\u001b[0;34m:\u001b[0m\u001b[0;34m\u001b[0m\u001b[0m\n\u001b[1;32m    143\u001b[0m         \u001b[0;31m# Composite any adjacent images together\u001b[0m\u001b[0;34m\u001b[0m\u001b[0;34m\u001b[0m\u001b[0m\n",
      "\u001b[0;32m~/anaconda3/lib/python3.6/site-packages/matplotlib/artist.py\u001b[0m in \u001b[0;36mdraw_wrapper\u001b[0;34m(artist, renderer, *args, **kwargs)\u001b[0m\n\u001b[1;32m     53\u001b[0m                 \u001b[0mrenderer\u001b[0m\u001b[0;34m.\u001b[0m\u001b[0mstart_filter\u001b[0m\u001b[0;34m(\u001b[0m\u001b[0;34m)\u001b[0m\u001b[0;34m\u001b[0m\u001b[0m\n\u001b[1;32m     54\u001b[0m \u001b[0;34m\u001b[0m\u001b[0m\n\u001b[0;32m---> 55\u001b[0;31m             \u001b[0;32mreturn\u001b[0m \u001b[0mdraw\u001b[0m\u001b[0;34m(\u001b[0m\u001b[0martist\u001b[0m\u001b[0;34m,\u001b[0m \u001b[0mrenderer\u001b[0m\u001b[0;34m,\u001b[0m \u001b[0;34m*\u001b[0m\u001b[0margs\u001b[0m\u001b[0;34m,\u001b[0m \u001b[0;34m**\u001b[0m\u001b[0mkwargs\u001b[0m\u001b[0;34m)\u001b[0m\u001b[0;34m\u001b[0m\u001b[0m\n\u001b[0m\u001b[1;32m     56\u001b[0m         \u001b[0;32mfinally\u001b[0m\u001b[0;34m:\u001b[0m\u001b[0;34m\u001b[0m\u001b[0m\n\u001b[1;32m     57\u001b[0m             \u001b[0;32mif\u001b[0m \u001b[0martist\u001b[0m\u001b[0;34m.\u001b[0m\u001b[0mget_agg_filter\u001b[0m\u001b[0;34m(\u001b[0m\u001b[0;34m)\u001b[0m \u001b[0;32mis\u001b[0m \u001b[0;32mnot\u001b[0m \u001b[0;32mNone\u001b[0m\u001b[0;34m:\u001b[0m\u001b[0;34m\u001b[0m\u001b[0m\n",
      "\u001b[0;32m~/anaconda3/lib/python3.6/site-packages/matplotlib/lines.py\u001b[0m in \u001b[0;36mdraw\u001b[0;34m(self, renderer)\u001b[0m\n\u001b[1;32m    759\u001b[0m                 \u001b[0mself\u001b[0m\u001b[0;34m.\u001b[0m\u001b[0m_set_gc_clip\u001b[0m\u001b[0;34m(\u001b[0m\u001b[0mgc\u001b[0m\u001b[0;34m)\u001b[0m\u001b[0;34m\u001b[0m\u001b[0m\n\u001b[1;32m    760\u001b[0m \u001b[0;34m\u001b[0m\u001b[0m\n\u001b[0;32m--> 761\u001b[0;31m                 \u001b[0mln_color_rgba\u001b[0m \u001b[0;34m=\u001b[0m \u001b[0mself\u001b[0m\u001b[0;34m.\u001b[0m\u001b[0m_get_rgba_ln_color\u001b[0m\u001b[0;34m(\u001b[0m\u001b[0;34m)\u001b[0m\u001b[0;34m\u001b[0m\u001b[0m\n\u001b[0m\u001b[1;32m    762\u001b[0m                 \u001b[0mgc\u001b[0m\u001b[0;34m.\u001b[0m\u001b[0mset_foreground\u001b[0m\u001b[0;34m(\u001b[0m\u001b[0mln_color_rgba\u001b[0m\u001b[0;34m,\u001b[0m \u001b[0misRGBA\u001b[0m\u001b[0;34m=\u001b[0m\u001b[0;32mTrue\u001b[0m\u001b[0;34m)\u001b[0m\u001b[0;34m\u001b[0m\u001b[0m\n\u001b[1;32m    763\u001b[0m                 \u001b[0mgc\u001b[0m\u001b[0;34m.\u001b[0m\u001b[0mset_alpha\u001b[0m\u001b[0;34m(\u001b[0m\u001b[0mln_color_rgba\u001b[0m\u001b[0;34m[\u001b[0m\u001b[0;36m3\u001b[0m\u001b[0;34m]\u001b[0m\u001b[0;34m)\u001b[0m\u001b[0;34m\u001b[0m\u001b[0m\n",
      "\u001b[0;32m~/anaconda3/lib/python3.6/site-packages/matplotlib/lines.py\u001b[0m in \u001b[0;36m_get_rgba_ln_color\u001b[0;34m(self, alt)\u001b[0m\n\u001b[1;32m   1260\u001b[0m \u001b[0;34m\u001b[0m\u001b[0m\n\u001b[1;32m   1261\u001b[0m     \u001b[0;32mdef\u001b[0m \u001b[0m_get_rgba_ln_color\u001b[0m\u001b[0;34m(\u001b[0m\u001b[0mself\u001b[0m\u001b[0;34m,\u001b[0m \u001b[0malt\u001b[0m\u001b[0;34m=\u001b[0m\u001b[0;32mFalse\u001b[0m\u001b[0;34m)\u001b[0m\u001b[0;34m:\u001b[0m\u001b[0;34m\u001b[0m\u001b[0m\n\u001b[0;32m-> 1262\u001b[0;31m         \u001b[0;32mreturn\u001b[0m \u001b[0mmcolors\u001b[0m\u001b[0;34m.\u001b[0m\u001b[0mto_rgba\u001b[0m\u001b[0;34m(\u001b[0m\u001b[0mself\u001b[0m\u001b[0;34m.\u001b[0m\u001b[0m_color\u001b[0m\u001b[0;34m,\u001b[0m \u001b[0mself\u001b[0m\u001b[0;34m.\u001b[0m\u001b[0m_alpha\u001b[0m\u001b[0;34m)\u001b[0m\u001b[0;34m\u001b[0m\u001b[0m\n\u001b[0m\u001b[1;32m   1263\u001b[0m \u001b[0;34m\u001b[0m\u001b[0m\n\u001b[1;32m   1264\u001b[0m     \u001b[0;31m# some aliases....\u001b[0m\u001b[0;34m\u001b[0m\u001b[0;34m\u001b[0m\u001b[0m\n",
      "\u001b[0;32m~/anaconda3/lib/python3.6/site-packages/matplotlib/colors.py\u001b[0m in \u001b[0;36mto_rgba\u001b[0;34m(c, alpha)\u001b[0m\n\u001b[1;32m    166\u001b[0m         \u001b[0mrgba\u001b[0m \u001b[0;34m=\u001b[0m \u001b[0m_colors_full_map\u001b[0m\u001b[0;34m.\u001b[0m\u001b[0mcache\u001b[0m\u001b[0;34m[\u001b[0m\u001b[0mc\u001b[0m\u001b[0;34m,\u001b[0m \u001b[0malpha\u001b[0m\u001b[0;34m]\u001b[0m\u001b[0;34m\u001b[0m\u001b[0m\n\u001b[1;32m    167\u001b[0m     \u001b[0;32mexcept\u001b[0m \u001b[0;34m(\u001b[0m\u001b[0mKeyError\u001b[0m\u001b[0;34m,\u001b[0m \u001b[0mTypeError\u001b[0m\u001b[0;34m)\u001b[0m\u001b[0;34m:\u001b[0m  \u001b[0;31m# Not in cache, or unhashable.\u001b[0m\u001b[0;34m\u001b[0m\u001b[0m\n\u001b[0;32m--> 168\u001b[0;31m         \u001b[0mrgba\u001b[0m \u001b[0;34m=\u001b[0m \u001b[0m_to_rgba_no_colorcycle\u001b[0m\u001b[0;34m(\u001b[0m\u001b[0mc\u001b[0m\u001b[0;34m,\u001b[0m \u001b[0malpha\u001b[0m\u001b[0;34m)\u001b[0m\u001b[0;34m\u001b[0m\u001b[0m\n\u001b[0m\u001b[1;32m    169\u001b[0m         \u001b[0;32mtry\u001b[0m\u001b[0;34m:\u001b[0m\u001b[0;34m\u001b[0m\u001b[0m\n\u001b[1;32m    170\u001b[0m             \u001b[0m_colors_full_map\u001b[0m\u001b[0;34m.\u001b[0m\u001b[0mcache\u001b[0m\u001b[0;34m[\u001b[0m\u001b[0mc\u001b[0m\u001b[0;34m,\u001b[0m \u001b[0malpha\u001b[0m\u001b[0;34m]\u001b[0m \u001b[0;34m=\u001b[0m \u001b[0mrgba\u001b[0m\u001b[0;34m\u001b[0m\u001b[0m\n",
      "\u001b[0;32m~/anaconda3/lib/python3.6/site-packages/matplotlib/colors.py\u001b[0m in \u001b[0;36m_to_rgba_no_colorcycle\u001b[0;34m(c, alpha)\u001b[0m\n\u001b[1;32m    221\u001b[0m     \u001b[0mc\u001b[0m \u001b[0;34m=\u001b[0m \u001b[0mtuple\u001b[0m\u001b[0;34m(\u001b[0m\u001b[0mc\u001b[0m\u001b[0;34m.\u001b[0m\u001b[0mastype\u001b[0m\u001b[0;34m(\u001b[0m\u001b[0mfloat\u001b[0m\u001b[0;34m)\u001b[0m\u001b[0;34m)\u001b[0m\u001b[0;34m\u001b[0m\u001b[0m\n\u001b[1;32m    222\u001b[0m     \u001b[0;32mif\u001b[0m \u001b[0mlen\u001b[0m\u001b[0;34m(\u001b[0m\u001b[0mc\u001b[0m\u001b[0;34m)\u001b[0m \u001b[0;32mnot\u001b[0m \u001b[0;32min\u001b[0m \u001b[0;34m[\u001b[0m\u001b[0;36m3\u001b[0m\u001b[0;34m,\u001b[0m \u001b[0;36m4\u001b[0m\u001b[0;34m]\u001b[0m\u001b[0;34m:\u001b[0m\u001b[0;34m\u001b[0m\u001b[0m\n\u001b[0;32m--> 223\u001b[0;31m         \u001b[0;32mraise\u001b[0m \u001b[0mValueError\u001b[0m\u001b[0;34m(\u001b[0m\u001b[0;34m\"RGBA sequence should have length 3 or 4\"\u001b[0m\u001b[0;34m)\u001b[0m\u001b[0;34m\u001b[0m\u001b[0m\n\u001b[0m\u001b[1;32m    224\u001b[0m     \u001b[0;32mif\u001b[0m \u001b[0mlen\u001b[0m\u001b[0;34m(\u001b[0m\u001b[0mc\u001b[0m\u001b[0;34m)\u001b[0m \u001b[0;34m==\u001b[0m \u001b[0;36m3\u001b[0m \u001b[0;32mand\u001b[0m \u001b[0malpha\u001b[0m \u001b[0;32mis\u001b[0m \u001b[0;32mNone\u001b[0m\u001b[0;34m:\u001b[0m\u001b[0;34m\u001b[0m\u001b[0m\n\u001b[1;32m    225\u001b[0m         \u001b[0malpha\u001b[0m \u001b[0;34m=\u001b[0m \u001b[0;36m1\u001b[0m\u001b[0;34m\u001b[0m\u001b[0m\n",
      "\u001b[0;31mValueError\u001b[0m: RGBA sequence should have length 3 or 4"
     ]
    },
    {
     "data": {
      "text/plain": [
       "<Figure size 432x288 with 1 Axes>"
      ]
     },
     "metadata": {},
     "output_type": "display_data"
    }
   ],
   "source": [
    "plt.plot(x, z, c=c_num)\n",
    "plt.xlabel(\"x-axis\",size=15)\n",
    "plt.ylabel(\"z-axis\",size=15)\n",
    "#plt.colorbar(c_num).set_label('Number Density',fontsize=15)\n",
    "plt.show()"
=======
   "execution_count": 46,
   "metadata": {},
   "outputs": [
    {
     "ename": "NameError",
     "evalue": "name 'c_num' is not defined",
     "output_type": "error",
     "traceback": [
      "\u001b[0;31m---------------------------------------------------------------------------\u001b[0m",
      "\u001b[0;31mNameError\u001b[0m                                 Traceback (most recent call last)",
      "\u001b[0;32m<ipython-input-46-568d7648feac>\u001b[0m in \u001b[0;36m<module>\u001b[0;34m()\u001b[0m\n\u001b[0;32m----> 1\u001b[0;31m \u001b[0mplt\u001b[0m\u001b[0;34m.\u001b[0m\u001b[0mscatter\u001b[0m\u001b[0;34m(\u001b[0m\u001b[0mx\u001b[0m\u001b[0;34m,\u001b[0m \u001b[0mz\u001b[0m\u001b[0;34m,\u001b[0m \u001b[0mc\u001b[0m\u001b[0;34m=\u001b[0m\u001b[0mc_num\u001b[0m\u001b[0;34m,\u001b[0m \u001b[0mcmap\u001b[0m\u001b[0;34m=\u001b[0m\u001b[0;34m'Oranges'\u001b[0m\u001b[0;34m)\u001b[0m\u001b[0;34m\u001b[0m\u001b[0m\n\u001b[0m\u001b[1;32m      2\u001b[0m \u001b[0mplt\u001b[0m\u001b[0;34m.\u001b[0m\u001b[0mxlabel\u001b[0m\u001b[0;34m(\u001b[0m\u001b[0;34m\"x-axis\"\u001b[0m\u001b[0;34m,\u001b[0m\u001b[0msize\u001b[0m\u001b[0;34m=\u001b[0m\u001b[0;36m15\u001b[0m\u001b[0;34m)\u001b[0m\u001b[0;34m\u001b[0m\u001b[0m\n\u001b[1;32m      3\u001b[0m \u001b[0mplt\u001b[0m\u001b[0;34m.\u001b[0m\u001b[0mylabel\u001b[0m\u001b[0;34m(\u001b[0m\u001b[0;34m\"z-axis\"\u001b[0m\u001b[0;34m,\u001b[0m\u001b[0msize\u001b[0m\u001b[0;34m=\u001b[0m\u001b[0;36m15\u001b[0m\u001b[0;34m)\u001b[0m\u001b[0;34m\u001b[0m\u001b[0m\n\u001b[1;32m      4\u001b[0m \u001b[0mcb\u001b[0m \u001b[0;34m=\u001b[0m \u001b[0mplt\u001b[0m\u001b[0;34m.\u001b[0m\u001b[0mcolorbar\u001b[0m\u001b[0;34m(\u001b[0m\u001b[0;34m)\u001b[0m\u001b[0;34m\u001b[0m\u001b[0m\n\u001b[1;32m      5\u001b[0m \u001b[0mcb\u001b[0m\u001b[0;34m.\u001b[0m\u001b[0mset_label\u001b[0m\u001b[0;34m(\u001b[0m\u001b[0;34m'Number Density'\u001b[0m\u001b[0;34m,\u001b[0m\u001b[0mfontsize\u001b[0m\u001b[0;34m=\u001b[0m\u001b[0;36m15\u001b[0m\u001b[0;34m)\u001b[0m\u001b[0;34m\u001b[0m\u001b[0m\n",
      "\u001b[0;31mNameError\u001b[0m: name 'c_num' is not defined"
     ]
    }
   ],
   "source": [
    "plt.plot(x, z, c=c_num, cmap='Oranges')\n",
    "plt.xlabel(\"x-axis\",size=15)\n",
    "plt.ylabel(\"z-axis\",size=15)\n",
    "cb = plt.colorbar()\n",
    "cb.set_label('Number Density',fontsize=15)"
>>>>>>> 7e5d18868fbec84dd527847fb4854098663ece98
   ]
  },
  {
   "cell_type": "markdown",
   "metadata": {},
   "source": [
    "### Problem 3\n",
    "\n",
    "**Part a)**\n",
    "\n",
    "The Kelvin Helmholtz mechanism theorizes that stars or planets (Jupiter in this case) that are not in hydrostatic equilibrium will undergo contraction as the surface cools, causing an increase in core temperature which prevents the planet from collapsing immediately. The thermal timescale is the amount of time this mechanism can persist before all of Jupiter's energy is radiated away. It can be calculated using the following formula:  \n",
    "\n",
    "$$ \\tau_{th} = \\frac{\\Delta{E_{g}}}{L} = \\frac{GM^2}{RL} $$\n",
    "\n",
    "Solving this equation below, we find Jupiter's thermal timescale is 321 gigayears. Since Jupiter is only 4.5 Gyr old, gravitational contraction could have power its luminosity for its entire lifetime, so we cannot assume it is in hydrostatic equilibrium. "
   ]
  },
  {
   "cell_type": "code",
   "execution_count": 3,
   "metadata": {},
   "outputs": [
    {
     "name": "stdout",
     "output_type": "stream",
     "text": [
      "321.18715474021167 Gyr\n"
     ]
    }
   ],
   "source": [
    "def ts_thermal(M, R, L):\n",
    "    G = 6.64e-8 * (u.cm)**3 / (u.g * (u.s)**(2))\n",
    "    t_in_seconds = (G*(M**2))/(R*L)\n",
    "    t_in_Gyr = t_in_seconds * (3.17e-17 * u.Gyr / u.s)\n",
    "    return t_in_Gyr\n",
    "\n",
    "M_jup = 1.9e30 * u.g\n",
    "R_jup = 7.1e9 * u.cm\n",
    "L_jup = 8.7e-10 * (3.83e33 * u.g * (u.cm)**2 * (u.s)**(-3))\n",
    "\n",
    "print(ts_thermal(M_jup, R_jup, L_jup))"
   ]
  },
  {
   "cell_type": "markdown",
   "metadata": {},
   "source": [
    "**Part b)**\n",
    "\n",
    "If Jupiter's radius is shrinking only due to radiation we can set up conservation of energy by equating the amount of energy lost in gravitational potential energy to the amoutn of energy emitted in luminosity:\n",
    "\n",
    "$$ \\Delta{E_{g}} = \\Delta{E_{emitted}} $$\n",
    "$$ \\frac{GM^2}{r(t)} = Lt $$\n",
    "\n",
    "We can take the time derivative of both sides, noting that since the star is contracting, radius is no longer a constant but now a function of time. \n",
    "\n",
    "$$ \\frac{d}{dt}(\\frac{GM^2}{r(t)}) = L $$\n",
    "\n",
    "Using the recipricol rule for derivatives\n",
    "\n",
    "$$ \\frac{-GM^2}{r(t)^2}\\frac{dr(t)}{dt} = L $$\n",
    "$$ \\frac{dr(t)}{dt} = \\frac{-Lr(t)^2}{GM^2} $$\n",
    "\n",
    "We are trying to find the rate at a given time (now), so we can substitute $ r(t) = R_{jupiter} $. Also, since we know that the radius is contracting, we can ignore the negative sign and calculate the rate"
   ]
  },
  {
   "cell_type": "code",
   "execution_count": 30,
   "metadata": {},
   "outputs": [
    {
     "name": "stdout",
     "output_type": "stream",
     "text": [
      "7.007440885425358e-10 cm / s\n",
      "0.022098659989736164 cm / yr\n"
     ]
    }
   ],
   "source": [
    "def contr_rate(M, R, L):\n",
    "    G = 6.64e-8 * (u.cm)**3 / (u.g * (u.s)**(2))\n",
    "    return (L*R**2)/(G*M**2)\n",
    "def convert_to_year_per_sec(value):\n",
    "    return value * (u.s / (3.17098e-8 * u.yr))\n",
    "\n",
    "print(contr_rate(M_jup, R_jup, L_jup))\n",
    "print(convert_to_year_per_sec(contr_rate(M_jup, R_jup, L_jup)))"
   ]
  },
  {
   "cell_type": "markdown",
   "metadata": {},
   "source": [
    "Our value is 0.02 cm per year, which is 2 orders of magnitude off of the actual value of 2 cm per year (**source**). This offset can be attributed to the fact that we assumed a simplified equation of the gravitational potential energy, ignoring the factor that arises from the density distribution. "
   ]
  },
  {
   "cell_type": "markdown",
   "metadata": {},
   "source": [
    "### Problem 4\n",
<<<<<<< HEAD
    "\n",
    "** Part a) ** \n",
    "\n",
    "We can start by taking the derivative of the given equation for $\\tau$:\n",
    "\n",
    "$$ \\frac{d\\tau}{dT} = - \\frac{(\\frac{27E_{G}}{UKT})^{1/3}}{3T} $$\n",
    "$$ \\frac{d\\tau}{dT} = - \\frac{\\tau}{3T} $$\n",
    "\n",
    "Taking the log of the given equation for $R_{AB}$:\n",
    "\n",
    "$$ \\ln{R_{AB}} = \\ln{(C\\tau^2e^{-\\tau})} $$\n",
    "$$ \\ln{R_{AB}} = \\ln{C} - \\ln{e^{-\\tau}} + 2\\ln{\\tau} $$\n",
    "$$ \\ln{R_{AB}} = \\ln{C} - \\tau + 2\\ln{\\tau} $$\n",
    "\n",
    "Rearranging the above equation for derivative of $\\tau$ we find:\n",
    "\n",
    "$$ \\frac{d\\tau}{\\tau} = - \\frac{dT}{3T} $$\n",
    "\n",
    "and we can represent the right side of this equation as: \n",
    "\n",
    "$$ \\frac{d\\tau}{\\tau} = - \\frac{1}{3}d\\ln{T} $$\n",
    "$$ -3\\frac{d\\tau}{\\tau} = d\\ln{T} $$\n",
    "\n",
    "so we can show that:\n",
    "\n",
    "$$ \\frac{d\\ln{R_{AB}}}{d\\ln{T}} = \\frac{d\\ln{R_{AB}}\\tau}{-3{d\\tau}} $$\n",
    "$$ \\frac{d\\ln{R_{AB}}}{d\\ln{T}} = - \\frac{\\tau}{3}\\frac{d}{d\\tau}(\\ln{C} - \\tau + 2\\ln{\\tau}) $$\n",
    "$$ \\frac{d\\ln{R_{AB}}}{d\\ln{T}} = - \\frac{\\tau}{3}(\\frac{2}{\\tau} - 1) $$\n",
    "\n",
    "$$ \\boxed{\\frac{d\\ln{R_{AB}}}{d\\ln{T}} = \\frac{\\tau}{3} - \\frac{2}{3}} $$\n"
   ]
  },
  {
   "cell_type": "markdown",
   "metadata": {},
   "source": [
    "**Part b)**"
=======
    "\n"
>>>>>>> 7e5d18868fbec84dd527847fb4854098663ece98
   ]
  },
  {
   "cell_type": "markdown",
   "metadata": {},
   "source": [
    "### Problem 5\n",
    "\n",
    "**Part a)**\n",
    "\n",
    "The mean free path ${l}$ tells us how far we can see through the Earth's atmosphere, and it is given by:\n",
    "\n",
    "$$ l = (\\kappa\\rho)^{-1} $$\n",
    "\n",
    "Plugging in the given values we get:"
   ]
  },
  {
   "cell_type": "code",
   "execution_count": 9,
   "metadata": {},
   "outputs": [
    {
     "name": "stdout",
     "output_type": "stream",
     "text": [
      "3156.5656565656564 cm\n"
     ]
    }
   ],
   "source": [
    "op_E = 0.264 * u.cm**2 / u.g\n",
    "dens_E = 1.2e-3 * u.g / u.cm**3\n",
    "mfp_E = 1 / (op_E*dens_E)\n",
    "\n",
    "print(mfp_E)"
   ]
  },
  {
   "cell_type": "markdown",
   "metadata": {},
   "source": [
    "** Part b) **\n",
    "\n",
    "Using the same formula, we can calculate the mean free path for a photon in the sun"
   ]
  },
  {
   "cell_type": "code",
   "execution_count": 23,
   "metadata": {},
   "outputs": [
    {
     "name": "stdout",
     "output_type": "stream",
     "text": [
      "0.005321413367390379 cm\n"
     ]
    }
   ],
   "source": [
    "op_S = 1.16 * u.cm**2 / u.g\n",
    "dens_S = 162 * u.g / u.cm**3\n",
    "mfp_S = 1 / (op_S*dens_S)\n",
    "\n",
    "print(mfp_S)"
   ]
  },
  {
   "cell_type": "markdown",
   "metadata": {},
   "source": [
    "** Part c) **\n",
    "\n",
    "Distance travelled by a photon can be expresed as:\n",
    "\n",
    "$$ d = \\sqrt{N}l $$\n",
    "\n",
    "For a photon coming from the center of the Sun to its surface, $ d = R_{\\odot} $. So the number of steps is\n",
    "\n",
    "$$ N = \\frac{R_{\\odot}^2}{l^2} $$\n",
    "\n",
    "So here $N$ signifies the number of random steps a photon. This photon will travel a distance $l$ per random step, so the total distance travelled is\n",
    "\n",
    "$$ D = Nl $$\n",
    "\n",
    "and so we can express the amount of time it takes (considering the constant speed of light) as:\n",
    "\n",
    "$$ t = \\frac{Nl}{c} = \\frac{R_{\\odot}^2}{lc} $$\n",
    "\n",
    "Plugging in our values we get that it will take a photon 960,393 years to travel from the center to the surface of the Sun. Crazy! "
   ]
  },
  {
   "cell_type": "code",
   "execution_count": 31,
   "metadata": {},
   "outputs": [
    {
     "name": "stdout",
     "output_type": "stream",
     "text": [
      "30286972972972.973 s\n",
      "960393.8555783783 yr\n"
     ]
    }
   ],
   "source": [
    "R_sun = 6.95e10 * u.cm\n",
    "c = 2.997e10 * u.cm / u.s\n",
    "t_photon = (R_sun**2 ) / (mfp_S * c)\n",
    "\n",
    "def convert_to_year(value):\n",
    "    return value * (3.17098e-8 * u.yr) / u.s\n",
    "\n",
    "print(t_photon)\n",
    "print(convert_to_year(t_photon))"
   ]
  }
 ],
 "metadata": {
  "kernelspec": {
   "display_name": "Python 3",
   "language": "python",
   "name": "python3"
  },
  "language_info": {
   "codemirror_mode": {
    "name": "ipython",
    "version": 3
   },
   "file_extension": ".py",
   "mimetype": "text/x-python",
   "name": "python",
   "nbconvert_exporter": "python",
   "pygments_lexer": "ipython3",
   "version": "3.6.3"
  }
 },
 "nbformat": 4,
 "nbformat_minor": 2
}
