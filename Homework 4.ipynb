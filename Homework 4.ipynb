{
 "cells": [
  {
   "cell_type": "markdown",
   "metadata": {},
   "source": [
    "## Homework 4\n",
    "\n",
    "Modern Stellar Astrophysics <br>\n",
    "Melissa Ness <br>\n",
    "December 11th 2018 <br>\n",
    "Yasmeen Asali"
   ]
  },
  {
   "cell_type": "code",
   "execution_count": 3,
   "metadata": {
    "collapsed": true
   },
   "outputs": [],
   "source": [
    "import numpy as np\n",
    "import astropy.units as u"
   ]
  },
  {
   "cell_type": "markdown",
   "metadata": {},
   "source": [
    "### Problem 3"
   ]
  },
  {
   "cell_type": "markdown",
   "metadata": {},
   "source": [
    "Comparing the adiabatic and radiative gradients: \n",
    "\n",
    "$$ \\nabla_{ad}  = \\frac{\\gamma - 1}{\\gamma}$$\n",
    "\n",
    "$$ \\nabla_{rad} = \\frac{P}{T}\\frac{dT}{dP} $$\n",
    "\n",
    "Plugging in the value of gamma:\n",
    "\n",
    "$$ \\nabla_{ad}  = \\frac{2}{5} $$\n",
    "\n",
    "To find the value of $ \\nabla_{rad} $, we can use the equation for opacity $ \\kappa = \\kappa_{o} \\rho T^{-3.5} $, and plug that into the ideal gas law:\n",
    "\n",
    "$$ P = \\frac{R \\kappa T^{4.5}}{\\mu \\kappa_{o}} $$\n",
    "\n",
    "$$ \\frac{dP}{dT} = 4.5 \\frac{R \\kappa T^{3.5}}{\\mu \\kappa_{o}} $$\n",
    "\n",
    "$$ \\frac{dP}{dT} = 4.5 \\frac{P}{T} $$\n",
    "\n",
    "$$ \\frac{P}{T}\\frac{dT}{dP} = \\frac{1}{4.5}$$\n",
    "\n",
    "$$ \\nabla_{rad} = \\frac{2}{9} $$\n",
    "\n",
    "Since $\\frac{2}{9} < \\frac{2}{5}$, we see that the radiative gradient is less than the adiabatic one, which means that the star is convectively stable. "
   ]
  },
  {
   "cell_type": "markdown",
   "metadata": {},
   "source": [
    "### Problem 4"
   ]
  },
  {
   "cell_type": "markdown",
   "metadata": {},
   "source": [
    "**Part a)**\n",
    "\n",
    "The equation for outward radiation force is given by:\n",
    "\n",
    "$$ F_{rad} = \\frac{\\kappa L}{4 \\pi R^{2}c} $$\n",
    "\n",
    "And gravitational force per unit mass at the surface where $r=R$ is given by:\n",
    "\n",
    "$$ F_{grav} = \\frac{G M}{R^{2}} $$\n",
    "\n",
    "The limit where the blob is ejected from the star occurs when the outward radiation force becomes strong enough to overcome the gravitational attraction that keeps the blob attached to the surface. Mathematically, it means $ F_{rad} >  F_{grav}$. \n",
    "\n",
    "$$ \\frac{G M}{R^{2}} < \\frac{\\kappa L}{4 \\pi R^{2}c} $$\n",
    "\n",
    "$$ {G M} < \\frac{\\kappa L}{4 \\pi c} $$\n",
    "\n",
    "$$ \\frac{M}{L} < \\frac{\\kappa}{4 \\pi c G} $$"
   ]
  },
  {
   "cell_type": "markdown",
   "metadata": {},
   "source": [
    "**Part b)**\n",
    "\n",
    "The max luminosity is \n",
    "\n",
    "$$ L = \\frac{4 \\pi c G M}{\\kappa} $$"
   ]
  },
  {
   "cell_type": "code",
   "execution_count": 18,
   "metadata": {},
   "outputs": [
    {
     "name": "stdout",
     "output_type": "stream",
     "text": [
      "83817.69199777568 cm2 / s3\n"
     ]
    }
   ],
   "source": [
    "c = 3e10 * (u.cm / u.s)\n",
    "G = 6.67 * 10**(-8) * ((u.cm)**3 / (u.g * (u.s)**2))\n",
    "k = 0.3 * ((u.cm)**2 / u.g)\n",
    "\n",
    "lum_const = (4*np.pi*c*G)/k\n",
    "print(lum_const)"
   ]
  },
  {
   "cell_type": "markdown",
   "metadata": {},
   "source": [
    "So the constants give a value of 83817, which we can multiply by mass to give:\n",
    "\n",
    "$$ L_{max} = 83817 {M} \\frac{cm^{2}}{s^{3}} $$\n",
    "\n",
    "If mass is given in grams, this will give us units of $\\frac{erg}{s} $:\n",
    "\n",
    "$$ L_{max} = 83817 {M} \\frac{erg}{s} $$\n",
    "\n",
    "So to put this in terms of solar units: \n",
    "\n",
    "$$ L_{max} = 83817 \\frac{M} {M_{\\odot}} L_{\\odot} \\frac{erg}{s} $$"
   ]
  },
  {
   "cell_type": "code",
   "execution_count": 21,
   "metadata": {},
   "outputs": [
    {
     "name": "stdout",
     "output_type": "stream",
     "text": [
      "3.2068648958348976e+38 cm2 erg / s4\n"
     ]
    }
   ],
   "source": [
    "L_sol = 3.826 * 10**33 * (u.erg/u.s)\n",
    "\n",
    "print(lum_const * L_sol)"
   ]
  },
  {
   "cell_type": "markdown",
   "metadata": {},
   "source": [
    "So our final answer is:\n",
    "\n",
    "$$ L_{max} = 3.2 * 10^{38} \\frac{M} {M_{\\odot}} \\frac{erg}{s} $$\n",
    "\n",
    "Note that the units are kind of weird, but $ erg = \\frac{g cm^{2}}{s^{2}} $ so I think this works out somehow. Honestly, I am a little bit confused, but I think the value I obtained is correct so I think I just made a mistake with units along the way.  \n",
    "\n",
    "This is the called the Eddington luminosity. "
   ]
  },
  {
   "cell_type": "markdown",
   "metadata": {},
   "source": [
    "** Part c) **\n",
    "\n",
    "$$ \\frac{L}{L_{\\odot}} = \\Big( \\frac{M}{M_{\\odot}} \\Big)^{4} $$\n",
    "\n",
    "So using the values from above:\n",
    "\n",
    "$$ 83817 \\frac{M} {M_{\\odot}} = \\Big( \\frac{M}{M_{\\odot}} \\Big)^{4} $$\n",
    "\n",
    "$$ 83817 = \\Big( \\frac{M}{M_{\\odot}} \\Big)^{3} $$\n",
    "\n",
    "$$ M = \\Big( 83817 \\Big)^{1/3} M_{\\odot} $$"
   ]
  },
  {
   "cell_type": "code",
   "execution_count": 25,
   "metadata": {},
   "outputs": [
    {
     "name": "stdout",
     "output_type": "stream",
     "text": [
      "8.704994813629282e+34 cm(2/3) g / s\n"
     ]
    }
   ],
   "source": [
    "M_limit = (lum_const)**(1/3) * M_sol\n",
    "\n",
    "print(M_limit) #issue with units"
   ]
  },
  {
   "cell_type": "markdown",
   "metadata": {},
   "source": [
    "### Problem 5"
   ]
  },
  {
   "cell_type": "markdown",
   "metadata": {},
   "source": [
    "** Part a) **\n",
    "\n",
    "The rate of mass loss will increase as the luminosity goes up, which intuitively makes sense since radiation can drive stellar winds that drive mass away from the star. As the rate of mass loss increases, the mass of the star gets smaller faster. Additionally, as gravity decreases the tenuous outer layers of the star will feel less attracted to the star, which means that they are more likely to be ejected. Radius is also inversely proportional. Intuitively, it would make sense that since gravity is stronger at smaller radii, mass loss would decrease as radius decreases. However since gravity is inversely propotional to the square of radius, the factor of $\\frac{1}{r^{2}}$ will cancel with the factor of $r$ to give a proportionality of $\\frac{1}{r}$. "
   ]
  },
  {
   "cell_type": "markdown",
   "metadata": {},
   "source": [
    "** Part b) **\n",
    "\n",
    "First we calculate radius:\n",
    "\n",
    "$$ L = 4 \\pi R^{2} \\sigma T^{4} $$\n",
    "\n",
    "$$ R = (\\frac{L}{4 \\pi \\sigma T^{4}})^{1/2} $$"
   ]
  },
  {
   "cell_type": "code",
   "execution_count": 11,
   "metadata": {},
   "outputs": [
    {
     "name": "stdout",
     "output_type": "stream",
     "text": [
      "21541067096026.137 cm\n"
     ]
    }
   ],
   "source": [
    "L = 7000 * (3.826 * 10**33 * (u.erg/u.s))\n",
    "T = 3000 * u.K\n",
    "sigma = 5.6704 * 10**(-5) * (u.erg / (u.cm**2 * u.s * u.K**4))\n",
    "\n",
    "R = np.sqrt(L / (4 * np.pi * sigma * T**4))\n",
    "print(R)"
   ]
  },
  {
   "cell_type": "markdown",
   "metadata": {},
   "source": [
    "Next we have to calculate the surface gravity using this formula: \n",
    "\n",
    "$$ g = \\frac{GM}{R^{2}} $$"
   ]
  },
  {
   "cell_type": "code",
   "execution_count": 13,
   "metadata": {},
   "outputs": [
    {
     "name": "stdout",
     "output_type": "stream",
     "text": [
      "0.28592229715002837 cm / s2\n"
     ]
    }
   ],
   "source": [
    "M_sol = 1.9891 * 10**33 * u.g\n",
    "g = (G*M_sol) / (R**2)\n",
    "print(g)"
   ]
  },
  {
   "cell_type": "markdown",
   "metadata": {},
   "source": [
    "The last step is plugging in our values for g and R into the mass loss formula to solve for the mass loss rate of a solar mass star. Since $\\eta$ is near unity, we can let it equal one and exclude it from calculations."
   ]
  },
  {
   "cell_type": "code",
   "execution_count": 15,
   "metadata": {},
   "outputs": [
    {
     "name": "stdout",
     "output_type": "stream",
     "text": [
      "-8.663442367505272e-07\n"
     ]
    }
   ],
   "source": [
    "g_sol = 2.74 * 10**4 * (u.cm / u.s**2)\n",
    "L_over_Lsol = 7000\n",
    "g_over_gsol = g / g_sol\n",
    "R_over_Rsol = R / (6.955 * 10**10 * u.cm)\n",
    "\n",
    "mass_loss = (- 4 * 10**(-13) * (L_over_Lsol)) / ((g_over_gsol) * (R_over_Rsol))\n",
    "print(mass_loss) "
   ]
  },
  {
   "cell_type": "markdown",
   "metadata": {},
   "source": [
    "So our final mass loss rate is $ \\boxed{ -8.66 * 10^{-7} M_{\\odot} yr^{-1} } $. "
   ]
  },
  {
   "cell_type": "markdown",
   "metadata": {},
   "source": [
    "** Part c) **\n",
    "\n",
    "Expressing $\\dot{M}$ as a function of $L, R, M$:\n",
    "\n",
    "$$ \\dot{M} = -4 * 10^{-13} \\eta \\frac{ \\frac{L}{L_{\\odot}} }{ (\\frac{g}{g_{\\odot}})(\\frac{R}{R_{\\odot}}) } M_{\\odot} yr^{-1} $$\n",
    "\n",
    "Let's start by finding an expression for $\\frac{g}{g_{\\odot}}$\n",
    "\n",
    "$$ \\frac{g}{g_{\\odot}} = \\frac{ \\frac{GM}{R^{2}} }{ \\frac{GM_{\\odot}}{R_{\\odot}^{2}} }$$\n",
    "\n",
    "$$ \\frac{g}{g_{\\odot}} = \\frac{M}{M_{\\odot}} \\frac{R_{\\odot}^{2}}{R^{2}}$$\n",
    "\n",
    "Substituting that back in:\n",
    "\n",
    "$$ \\dot{M} = -4 * 10^{-13} \\eta \\frac{ \\frac{L}{L_{\\odot}} }{ (\\frac{M}{M_{\\odot}} \\frac{R_{\\odot}^{2}}{R^{2}})(\\frac{R}{R_{\\odot}}) } M_{\\odot} yr^{-1} $$\n",
    "\n",
    "$$ \\dot{M} = -4 * 10^{-13} \\eta \\frac{ \\frac{L}{L_{\\odot}} }{ \\frac{M}{M_{\\odot}} \\frac{R_{\\odot}}{R} } M_{\\odot} yr^{-1} $$\n",
    "\n",
    "$$ \\dot{M} = -4 * 10^{-13} \\eta \\frac{ \\frac{L}{L_{\\odot}} \\frac{R}{R_{\\odot}} }{ \\frac{M}{M_{\\odot}} } M_{\\odot} yr^{-1} $$\n",
    "\n",
    "Or in a format that's easier to read\n",
    "\n",
    "$$\\boxed{ \\dot{M} = -4 * 10^{-13} \\eta \\frac{L}{L_{\\odot}} \\frac{R}{R_{\\odot}} \\frac{M_{\\odot}}{M} M_{\\odot} yr^{-1} }$$"
   ]
  },
  {
   "cell_type": "markdown",
   "metadata": {},
   "source": [
    "** Part d) **\n",
    "\n",
    "$$\\frac{dM}{dt} = -4 * 10^{-13} \\eta \\frac{L}{L_{\\odot}} \\frac{R}{R_{\\odot}} \\frac{M_{\\odot}}{M} M_{\\odot} yr^{-1}$$\n",
    "\n",
    "We can treat this as a seperable differential equation. Let's integrate from the starting mass $M_{o}$ to $M(t)$ for a given time $t$. I'm also gonna remove the units $yr^{-1}$ for simplicity. \n",
    "\n",
    "$$\\int_{M_{o}}^{M(t)} \\frac{M}{M_{\\odot}} {dM} = -4 * 10^{-13} \\eta \\frac{L}{L_{\\odot}} \\frac{R}{R_{\\odot}} \\int_{0}^{t}{dt} M_{\\odot} $$\n",
    "\n",
    "$$\\frac{M(t)^{2}}{2M_{\\odot}^{2}} - \\frac{M_{o}^{2}}{2M_{\\odot}^{2}} = -4 * 10^{-13} \\eta \\frac{L}{L_{\\odot}} \\frac{R}{R_{\\odot}} t $$\n",
    "\n",
    "$$\\frac{M(t)^{2} - M_{o}^{2}}{2M_{\\odot}^{2}} = -4 * 10^{-13} \\eta \\frac{L}{L_{\\odot}} \\frac{R}{R_{\\odot}} t $$\n",
    "\n",
    "$$ M(t)^{2} = M_{o}^{2} - 8 * 10^{-13} \\eta \\frac{L}{L_{\\odot}} \\frac{R}{R_{\\odot}} t M_{\\odot}^{2} $$\n",
    "\n",
    "$$ \\boxed{ M(t) = \\Big( M_{o}^{2} - 8 * 10^{-13} \\eta \\frac{L}{L_{\\odot}} \\frac{R}{R_{\\odot}} M_{\\odot}^{2} t \\Big)^{1/2} } $$"
   ]
  },
  {
   "cell_type": "markdown",
   "metadata": {},
   "source": [
    "** Part e) **\n",
    "\n",
    "For a $M_{o} = 1 M_{\\odot}$ star to lose it's envelope, it looses $0.4 M_{\\odot}$ of mass and leaves behind a $0.6 M_{\\odot}$ core.\n",
    "\n",
    "$$ 0.6 M_{\\odot} = \\Big( M_{\\odot}^{2} - 8 * 10^{-13} \\eta \\frac{L}{L_{\\odot}} \\frac{R}{R_{\\odot}} M_{\\odot}^{2} t \\Big)^{1/2} $$\n",
    "\n",
    "$$ 0.6 M_{\\odot} = \\Big( 1 - 8 * 10^{-13} \\eta \\frac{L}{L_{\\odot}} \\frac{R}{R_{\\odot}} t \\Big)^{1/2} M_{\\odot} $$\n",
    "\n",
    "$$ 0.6 = \\Big(1 - 8 * 10^{-13} \\eta \\frac{L}{L_{\\odot}} \\frac{R}{R_{\\odot}} t \\Big)^{1/2} $$\n",
    "\n",
    "$$ \\Big( 0.6 \\Big)^{2} = 1 - 8 * 10^{-13} \\eta \\frac{L}{L_{\\odot}} \\frac{R}{R_{\\odot}}t $$\n",
    "\n",
    "$$ t = \\frac{(0.6)^{2}}{ 1 - 8 * 10^{-13} \\eta \\frac{L}{L_{\\odot}}\\frac{R}{R_{\\odot}}}$$\n",
    "\n",
    "Solving for this value (letting $\\eta = 1$):"
   ]
  },
  {
   "cell_type": "code",
   "execution_count": 23,
   "metadata": {},
   "outputs": [
    {
     "name": "stdout",
     "output_type": "stream",
     "text": [
      "0.3600006243977942\n"
     ]
    }
   ],
   "source": [
    "time = ((0.6)**2) / (1 - (8 * 10**(-13) * L_over_Lsol * R_over_Rsol))\n",
    "\n",
    "print(time)"
   ]
  },
  {
   "cell_type": "markdown",
   "metadata": {},
   "source": [
    "So the answer is $ \\boxed{ t = 0.36 yr^{-1} }$"
   ]
  }
 ],
 "metadata": {
  "kernelspec": {
   "display_name": "Python 3",
   "language": "python",
   "name": "python3"
  },
  "language_info": {
   "codemirror_mode": {
    "name": "ipython",
    "version": 3
   },
   "file_extension": ".py",
   "mimetype": "text/x-python",
   "name": "python",
   "nbconvert_exporter": "python",
   "pygments_lexer": "ipython3",
   "version": "3.6.3"
  }
 },
 "nbformat": 4,
 "nbformat_minor": 2
}
