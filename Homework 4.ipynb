{
 "cells": [
  {
   "cell_type": "markdown",
   "metadata": {},
   "source": [
    "## Homework 4\n",
    "\n",
    "Modern Stellar Astrophysics <br>\n",
    "Melissa Ness <br>\n",
    "December 11th 2018 <br>\n",
    "Yasmeen Asali"
   ]
  },
  {
   "cell_type": "code",
   "execution_count": 3,
   "metadata": {
    "collapsed": true
   },
   "outputs": [],
   "source": [
    "import numpy as np\n",
    "import astropy.units as u"
   ]
  },
  {
   "cell_type": "markdown",
   "metadata": {},
   "source": [
    "### Problem 3"
   ]
  },
  {
   "cell_type": "markdown",
   "metadata": {},
   "source": []
  },
  {
   "cell_type": "markdown",
   "metadata": {},
   "source": [
    "### Problem 4"
   ]
  },
  {
   "cell_type": "markdown",
   "metadata": {},
   "source": [
    "**Part a)**\n",
    "\n",
    "The equation for outward radiation force is given by:\n",
    "\n",
    "$$ F_{rad} = \\frac{\\kappa L}{4 \\pi R^{2}c} $$\n",
    "\n",
    "And gravitational force per unit mass at the surface where $r=R$ is given by:\n",
    "\n",
    "$$ F_{grav} = \\frac{G M}{R^{2}} $$\n",
    "\n",
    "The limit where the blob is ejected from the star occurs when the outward radiation force becomes strong enough to overcome the gravitational attraction that keeps the blob attached to the surface. Mathematically, it means $ F_{rad} >  F_{grav}$. \n",
    "\n",
    "$$ \\frac{G M}{R^{2}} < \\frac{\\kappa L}{4 \\pi R^{2}c} $$\n",
    "\n",
    "$$ {G M} < \\frac{\\kappa L}{4 \\pi c} $$\n",
    "\n",
    "$$ \\frac{M}{L} < \\frac{\\kappa}{4 \\pi c G} $$"
   ]
  },
  {
   "cell_type": "markdown",
   "metadata": {},
   "source": [
    "**Part b)**\n",
    "\n",
    "The max luminosity is \n",
    "\n",
    "$$ L = \\frac{4 \\pi c G M}{\\kappa} $$"
   ]
  },
  {
   "cell_type": "code",
   "execution_count": 8,
   "metadata": {},
   "outputs": [
    {
     "name": "stdout",
     "output_type": "stream",
     "text": [
      "83817.69199777568 cm2 / s3\n"
     ]
    }
   ],
   "source": [
    "c = 3e10 * (u.cm / u.s)\n",
    "G = 6.67 * 10**(-8) * ((u.cm)**3 / (u.g * (u.s)**2))\n",
    "k = 0.3 * ((u.cm)**2 / u.g)\n",
    "\n",
    "lum_const = (4*np.pi*c*G)/k\n",
    "print(lum_const)"
   ]
  },
  {
   "cell_type": "markdown",
   "metadata": {},
   "source": [
    "So the constants give a value of 83817, which we can multiply by mass to give:\n",
    "\n",
    "$$ L_{max} = 83817 \\frac{M}{M_{\\odot}} \\frac{erg}{s} $$\n",
    "\n",
    "Note that the units work out because $ erg = \\frac{g cm^{2}}{s^{2}} $. \n",
    "\n",
    "This is the called the Eddington luminosity. "
   ]
  },
  {
   "cell_type": "markdown",
   "metadata": {},
   "source": [
    "** Part c) **\n",
    "\n"
   ]
  },
  {
   "cell_type": "markdown",
   "metadata": {},
   "source": [
    "### Problem 5"
   ]
  },
  {
   "cell_type": "markdown",
   "metadata": {},
   "source": [
    "** Part a) **\n",
    "\n",
    "The rate of mass loss will increase as the luminosity goes up, which intuitively makes sense since radiation can drive stellar winds that drive mass away from the star. As the rate of mass loss increases, the mass of the star gets smaller faster. "
   ]
  },
  {
   "cell_type": "markdown",
   "metadata": {},
   "source": [
    "** Part b) **\n",
    "\n",
    "First we calculate radius:\n",
    "\n",
    "$$ L = 4 \\pi R^{2} \\sigma T^{4} $$\n",
    "\n",
    "$$ R = (\\frac{L}{4 \\pi \\sigma T^{4}})^{1/2} $$"
   ]
  },
  {
   "cell_type": "code",
   "execution_count": 11,
   "metadata": {},
   "outputs": [
    {
     "name": "stdout",
     "output_type": "stream",
     "text": [
      "21541067096026.137 cm\n"
     ]
    }
   ],
   "source": [
    "L = 7000 * (3.826 * 10**33 * (u.erg/u.s))\n",
    "T = 3000 * u.K\n",
    "sigma = 5.6704 * 10**(-5) * (u.erg / (u.cm**2 * u.s * u.K**4))\n",
    "\n",
    "R = np.sqrt(L / (4 * np.pi * sigma * T**4))\n",
    "print(R)"
   ]
  },
  {
   "cell_type": "markdown",
   "metadata": {},
   "source": [
    "Next we have to calculate the surface gravity using this formula: \n",
    "\n",
    "$$ g = \\frac{GM}{R^{2}} $$"
   ]
  },
  {
   "cell_type": "code",
   "execution_count": 13,
   "metadata": {},
   "outputs": [
    {
     "name": "stdout",
     "output_type": "stream",
     "text": [
      "0.28592229715002837 cm / s2\n"
     ]
    }
   ],
   "source": [
    "M_sol = 1.9891 * 10**33 * u.g\n",
    "g = (G*M_sol) / (R**2)\n",
    "print(g)"
   ]
  },
  {
   "cell_type": "markdown",
   "metadata": {},
   "source": [
    "The last step is plugging in our values for g and R into the mass loss formula to solve for the mass loss rate of a solar mass star. Since $\\eta$ is near unity, we can let it equal one and exclude it from calculations."
   ]
  },
  {
   "cell_type": "code",
   "execution_count": 15,
   "metadata": {},
   "outputs": [
    {
     "name": "stdout",
     "output_type": "stream",
     "text": [
      "-8.663442367505272e-07\n"
     ]
    }
   ],
   "source": [
    "g_sol = 2.74 * 10**4 * (u.cm / u.s**2)\n",
    "L_over_Lsol = 7000\n",
    "g_over_gsol = g / g_sol\n",
    "R_over_Rsol = R / (6.955 * 10**10 * u.cm)\n",
    "\n",
    "mass_loss = (- 4 * 10**(-13) * (L_over_Lsol)) / ((g_over_gsol) * (R_over_Rsol))\n",
    "print(mass_loss) "
   ]
  },
  {
   "cell_type": "markdown",
   "metadata": {},
   "source": [
    "So our final mass loss rate is $ \\boxed{ -8.66 * 10^{-7} M_{\\odot} yr^{-1} } $. "
   ]
  },
  {
   "cell_type": "markdown",
   "metadata": {},
   "source": [
    "** Part c) **\n",
    "\n",
    "Expressing $\\dot{M}$ as a function of $L, R, M$:\n",
    "\n",
    "$$ \\dot{M} = -4 * 10^{-13} \\eta \\frac{ \\frac{L}{L_{\\odot}} }{ (\\frac{g}{g_{\\odot}})(\\frac{R}{R_{\\odot}}) } M_{\\odot} yr^{-1} $$\n",
    "\n",
    "Let's start by finding an expression for $\\frac{g}{g_{\\odot}}$\n",
    "\n",
    "$$ \\frac{g}{g_{\\odot}} = \\frac{ \\frac{GM}{R^{2}} }{ \\frac{GM_{\\odot}}{R_{\\odot}^{2}} }$$\n",
    "\n",
    "$$ \\frac{g}{g_{\\odot}} = \\frac{M}{M_{\\odot}} \\frac{R_{\\odot}^{2}}{R^{2}}$$\n",
    "\n",
    "Substituting that back in:\n",
    "\n",
    "$$ \\dot{M} = -4 * 10^{-13} \\eta \\frac{ \\frac{L}{L_{\\odot}} }{ (\\frac{M}{M_{\\odot}} \\frac{R_{\\odot}^{2}}{R^{2}})(\\frac{R}{R_{\\odot}}) } M_{\\odot} yr^{-1} $$\n",
    "\n",
    "$$ \\dot{M} = -4 * 10^{-13} \\eta \\frac{ \\frac{L}{L_{\\odot}} }{ \\frac{M}{M_{\\odot}} \\frac{R_{\\odot}}{R} } M_{\\odot} yr^{-1} $$\n",
    "\n",
    "$$ \\dot{M} = -4 * 10^{-13} \\eta \\frac{ \\frac{L}{L_{\\odot}} \\frac{R}{R_{\\odot}} }{ \\frac{M}{M_{\\odot}} } M_{\\odot} yr^{-1} $$\n",
    "\n",
    "Or in a format that's easier to read\n",
    "\n",
    "$$\\boxed{ \\dot{M} = -4 * 10^{-13} \\eta \\frac{L}{L_{\\odot}} \\frac{R}{R_{\\odot}} \\frac{M_{\\odot}}{M} M_{\\odot} yr^{-1} }$$"
   ]
  },
  {
   "cell_type": "markdown",
   "metadata": {},
   "source": [
    "** Part d) **\n",
    "\n",
    "$$\\frac{dM}{dt} = -4 * 10^{-13} \\eta \\frac{L}{L_{\\odot}} \\frac{R}{R_{\\odot}} \\frac{M_{\\odot}}{M} M_{\\odot} yr^{-1}$$\n",
    "\n",
    "We can treat this as a seperable differential equation. Let's integrate from the starting mass $M_{o}$ to $M(t)$ for a given time $t$. I'm also gonna remove the units $M_{\\odot} yr^{-1}$ for simplicity. \n",
    "\n",
    "$$\\int_{M_{o}}^{M(t)} \\frac{M}{M_{\\odot}} {dM} = -4 * 10^{-13} \\eta \\frac{L}{L_{\\odot}} \\frac{R}{R_{\\odot}} \\int_{0}^{t}{dt} $$\n",
    "\n",
    "$$ M(t) - M_{o} = -4 * 10^{-13} \\eta \\frac{L}{L_{\\odot}} \\frac{R}{R_{\\odot}} \\frac{M_{\\odot}}{M} t $$\n",
    "\n",
    "$$ \\boxed{ M(t) = M_{o} - 4 * 10^{-13} \\eta \\frac{L}{L_{\\odot}} \\frac{R}{R_{\\odot}} \\frac{M_{\\odot}}{M} t }$$"
   ]
  },
  {
   "cell_type": "markdown",
   "metadata": {},
   "source": [
    "** Part e) **\n",
    "\n",
    "For a $1 M_{\\odot}$ star to lose it's envelope, it looses $0.4 M_{\\odot}$ of mass. So let's set the amount of mass lost in a time t equal to the following:\n",
    "\n",
    "$$ 0.4 M_{\\odot} = 4 * 10^{-13} \\eta \\frac{L}{L_{\\odot}} \\frac{R}{R_{\\odot}} \\frac{M_{\\odot}}{M} t $$"
   ]
  },
  {
   "cell_type": "code",
   "execution_count": null,
   "metadata": {
    "collapsed": true
   },
   "outputs": [],
   "source": []
  }
 ],
 "metadata": {
  "kernelspec": {
   "display_name": "Python 3",
   "language": "python",
   "name": "python3"
  },
  "language_info": {
   "codemirror_mode": {
    "name": "ipython",
    "version": 3
   },
   "file_extension": ".py",
   "mimetype": "text/x-python",
   "name": "python",
   "nbconvert_exporter": "python",
   "pygments_lexer": "ipython3",
   "version": "3.6.3"
  }
 },
 "nbformat": 4,
 "nbformat_minor": 2
}
